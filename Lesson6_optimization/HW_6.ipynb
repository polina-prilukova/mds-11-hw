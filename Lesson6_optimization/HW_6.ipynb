{
 "cells": [
  {
   "cell_type": "markdown",
   "metadata": {
    "id": "fnTx5JrSddQV"
   },
   "source": [
    "# Домашнее задание \"Теория оптимизации\"."
   ]
  },
  {
   "cell_type": "markdown",
   "metadata": {
    "id": "Gwx7jfeReY-R"
   },
   "source": [
    "### Задание."
   ]
  },
  {
   "cell_type": "markdown",
   "metadata": {
    "id": "4JhHuyKfddSw"
   },
   "source": [
    "При фиксированном seed=42 поразбирайтесь и поэкспериментируйте с параметрами алгоритма дифференциальной эволюции: strategy, popsize, tol, mutation, recombination и updating.\n",
    "\n",
    "Постройте графики количества итераций оптимизации функции ackley от значения параметра."
   ]
  },
  {
   "cell_type": "markdown",
   "metadata": {
    "id": "AoJvQgnVddUy"
   },
   "source": [
    "### Дополнительное задание."
   ]
  },
  {
   "cell_type": "markdown",
   "metadata": {
    "id": "0G9zpm2ZddWr"
   },
   "source": [
    "Найти множество параметров (strategy=..., ..., updating=...), которые требуют минимального количества итераций."
   ]
  },
  {
   "cell_type": "code",
   "execution_count": 1,
   "metadata": {
    "id": "mKoDq1O9epjS"
   },
   "outputs": [],
   "source": [
    "import numpy as np\n",
    "from scipy.optimize import differential_evolution\n",
    "import pandas as pd\n",
    "import matplotlib.pyplot as plt"
   ]
  },
  {
   "cell_type": "code",
   "execution_count": 2,
   "metadata": {
    "colab": {
     "base_uri": "https://localhost:8080/"
    },
    "id": "2BlN34tSeplM",
    "outputId": "086f6737-3509-4971-dea7-6ee184c96e8e"
   },
   "outputs": [
    {
     "data": {
      "text/plain": [
       "     fun: 4.440892098500626e-16\n",
       " message: 'Optimization terminated successfully.'\n",
       "    nfev: 2793\n",
       "     nit: 90\n",
       " success: True\n",
       "       x: array([0., 0.])"
      ]
     },
     "execution_count": 2,
     "metadata": {},
     "output_type": "execute_result"
    }
   ],
   "source": [
    "def ackley(x):\n",
    "    arg1 = -0.2 * np.sqrt(0.5 * (x[0] ** 2 + x[1] ** 2))\n",
    "    arg2 = 0.5 * (np.cos(2. * np.pi * x[0]) + np.cos(2. * np.pi * x[1]))\n",
    "    return -20. * np.exp(arg1) - np.exp(arg2) + 20. + np.e\n",
    "\n",
    "bounds = [(-10, 10), (-10, 10)]\n",
    "\n",
    "result = differential_evolution(ackley, bounds, seed=42)\n",
    "result"
   ]
  },
  {
   "cell_type": "markdown",
   "metadata": {},
   "source": [
    "### Задание 1\n",
    "\n",
    "Проверим, как поочередное изменение параметров повлияет на количество итераций. При вызове функции с параметрами по умлочанию получаем nit=90"
   ]
  },
  {
   "cell_type": "code",
   "execution_count": 8,
   "metadata": {},
   "outputs": [
    {
     "data": {
      "text/html": [
       "<div>\n",
       "<style scoped>\n",
       "    .dataframe tbody tr th:only-of-type {\n",
       "        vertical-align: middle;\n",
       "    }\n",
       "\n",
       "    .dataframe tbody tr th {\n",
       "        vertical-align: top;\n",
       "    }\n",
       "\n",
       "    .dataframe thead th {\n",
       "        text-align: right;\n",
       "    }\n",
       "</style>\n",
       "<table border=\"1\" class=\"dataframe\">\n",
       "  <thead>\n",
       "    <tr style=\"text-align: right;\">\n",
       "      <th></th>\n",
       "      <th>strategy</th>\n",
       "      <th>nit</th>\n",
       "    </tr>\n",
       "  </thead>\n",
       "  <tbody>\n",
       "    <tr>\n",
       "      <th>0</th>\n",
       "      <td>best1bin</td>\n",
       "      <td>90</td>\n",
       "    </tr>\n",
       "    <tr>\n",
       "      <th>1</th>\n",
       "      <td>best1exp</td>\n",
       "      <td>147</td>\n",
       "    </tr>\n",
       "    <tr>\n",
       "      <th>2</th>\n",
       "      <td>rand1exp</td>\n",
       "      <td>246</td>\n",
       "    </tr>\n",
       "    <tr>\n",
       "      <th>3</th>\n",
       "      <td>randtobest1exp</td>\n",
       "      <td>156</td>\n",
       "    </tr>\n",
       "    <tr>\n",
       "      <th>4</th>\n",
       "      <td>currenttobest1exp</td>\n",
       "      <td>1000</td>\n",
       "    </tr>\n",
       "    <tr>\n",
       "      <th>5</th>\n",
       "      <td>best2exp</td>\n",
       "      <td>244</td>\n",
       "    </tr>\n",
       "    <tr>\n",
       "      <th>6</th>\n",
       "      <td>rand2exp</td>\n",
       "      <td>341</td>\n",
       "    </tr>\n",
       "    <tr>\n",
       "      <th>7</th>\n",
       "      <td>randtobest1bin</td>\n",
       "      <td>101</td>\n",
       "    </tr>\n",
       "    <tr>\n",
       "      <th>8</th>\n",
       "      <td>currenttobest1bin</td>\n",
       "      <td>1000</td>\n",
       "    </tr>\n",
       "    <tr>\n",
       "      <th>9</th>\n",
       "      <td>best2bin</td>\n",
       "      <td>166</td>\n",
       "    </tr>\n",
       "    <tr>\n",
       "      <th>10</th>\n",
       "      <td>rand2bin</td>\n",
       "      <td>232</td>\n",
       "    </tr>\n",
       "    <tr>\n",
       "      <th>11</th>\n",
       "      <td>rand1bin</td>\n",
       "      <td>168</td>\n",
       "    </tr>\n",
       "  </tbody>\n",
       "</table>\n",
       "</div>"
      ],
      "text/plain": [
       "             strategy   nit\n",
       "0            best1bin    90\n",
       "1            best1exp   147\n",
       "2            rand1exp   246\n",
       "3      randtobest1exp   156\n",
       "4   currenttobest1exp  1000\n",
       "5            best2exp   244\n",
       "6            rand2exp   341\n",
       "7      randtobest1bin   101\n",
       "8   currenttobest1bin  1000\n",
       "9            best2bin   166\n",
       "10           rand2bin   232\n",
       "11           rand1bin   168"
      ]
     },
     "execution_count": 8,
     "metadata": {},
     "output_type": "execute_result"
    }
   ],
   "source": [
    "# Будем изменять параметр strategy - используемую стратегию для дифференциальной эволюции\n",
    "\n",
    "strategies = ['best1bin',\n",
    "            'best1exp',\n",
    "            'rand1exp',\n",
    "            'randtobest1exp',\n",
    "            'currenttobest1exp',\n",
    "            'best2exp',\n",
    "            'rand2exp',\n",
    "            'randtobest1bin',\n",
    "            'currenttobest1bin',\n",
    "            'best2bin',\n",
    "            'rand2bin',\n",
    "            'rand1bin']\n",
    "\n",
    "df = pd.DataFrame(columns=['strategy', 'nit'])\n",
    "for strategy in strategies:\n",
    "    res = differential_evolution(ackley, bounds, strategy=strategy, seed=42)\n",
    "    df.loc[len(df)] = [strategy, res.nit]\n",
    "\n",
    "df"
   ]
  },
  {
   "cell_type": "code",
   "execution_count": 19,
   "metadata": {},
   "outputs": [
    {
     "data": {
      "text/plain": [
       "<AxesSubplot:xlabel='strategy'>"
      ]
     },
     "execution_count": 19,
     "metadata": {},
     "output_type": "execute_result"
    },
    {
     "data": {
      "image/png": "[encoded data removed]",
      "text/plain": [
       "<Figure size 720x432 with 1 Axes>"
      ]
     },
     "metadata": {
      "needs_background": "light"
     },
     "output_type": "display_data"
    }
   ],
   "source": [
    "df.sort_values(by='nit').plot.bar(x='strategy', y='nit', figsize=(10, 6))"
   ]
  },
  {
   "cell_type": "markdown",
   "metadata": {},
   "source": [
    "Наименьшее количество итераций (90) получилось при стратегии **best1bin**. Эта стратегия и является используемой по умолчанию. Наибольшее количество итераций (1000) показали стратегии **currenttobest1exp** и **currenttobest1bin**"
   ]
  },
  {
   "cell_type": "code",
   "execution_count": 28,
   "metadata": {},
   "outputs": [
    {
     "data": {
      "text/html": [
       "<div>\n",
       "<style scoped>\n",
       "    .dataframe tbody tr th:only-of-type {\n",
       "        vertical-align: middle;\n",
       "    }\n",
       "\n",
       "    .dataframe tbody tr th {\n",
       "        vertical-align: top;\n",
       "    }\n",
       "\n",
       "    .dataframe thead th {\n",
       "        text-align: right;\n",
       "    }\n",
       "</style>\n",
       "<table border=\"1\" class=\"dataframe\">\n",
       "  <thead>\n",
       "    <tr style=\"text-align: right;\">\n",
       "      <th></th>\n",
       "      <th>popsize</th>\n",
       "      <th>nit</th>\n",
       "      <th>fun</th>\n",
       "    </tr>\n",
       "  </thead>\n",
       "  <tbody>\n",
       "    <tr>\n",
       "      <th>0</th>\n",
       "      <td>1.0</td>\n",
       "      <td>7.0</td>\n",
       "      <td>2.579928e+00</td>\n",
       "    </tr>\n",
       "    <tr>\n",
       "      <th>1</th>\n",
       "      <td>2.0</td>\n",
       "      <td>7.0</td>\n",
       "      <td>2.579928e+00</td>\n",
       "    </tr>\n",
       "    <tr>\n",
       "      <th>2</th>\n",
       "      <td>3.0</td>\n",
       "      <td>29.0</td>\n",
       "      <td>6.331649e-04</td>\n",
       "    </tr>\n",
       "    <tr>\n",
       "      <th>3</th>\n",
       "      <td>4.0</td>\n",
       "      <td>39.0</td>\n",
       "      <td>1.413367e-05</td>\n",
       "    </tr>\n",
       "    <tr>\n",
       "      <th>4</th>\n",
       "      <td>5.0</td>\n",
       "      <td>100.0</td>\n",
       "      <td>4.440892e-16</td>\n",
       "    </tr>\n",
       "  </tbody>\n",
       "</table>\n",
       "</div>"
      ],
      "text/plain": [
       "   popsize    nit           fun\n",
       "0      1.0    7.0  2.579928e+00\n",
       "1      2.0    7.0  2.579928e+00\n",
       "2      3.0   29.0  6.331649e-04\n",
       "3      4.0   39.0  1.413367e-05\n",
       "4      5.0  100.0  4.440892e-16"
      ]
     },
     "execution_count": 28,
     "metadata": {},
     "output_type": "execute_result"
    }
   ],
   "source": [
    "# Будем изменять параметр popsize - множитель для установки общей численности популяции\n",
    "# По умолчанию popsize = 15. Пусть в нашем эксперименте параметр изменяется в пределах от 1 до 30\n",
    "# Пронаблюдаем, как эволюция поведет себя как при меньших, так и при больших его значениях\n",
    "\n",
    "df.iloc[0:0]\n",
    "df = pd.DataFrame(columns=['popsize', 'nit', 'fun'])\n",
    "\n",
    "for popsize in range(1, 31):\n",
    "    res = differential_evolution(ackley, bounds, popsize=popsize, seed=42)\n",
    "    df.loc[len(df)] = [popsize, res.nit, res.fun]\n",
    "   "
   ]
  },
  {
   "cell_type": "code",
   "execution_count": 27,
   "metadata": {},
   "outputs": [
    {
     "data": {
      "text/plain": [
       "<AxesSubplot:xlabel='popsize'>"
      ]
     },
     "execution_count": 27,
     "metadata": {},
     "output_type": "execute_result"
    },
    {
     "data": {
      "image/png": "[encoded data removed]",
      "text/plain": [
       "<Figure size 720x432 with 1 Axes>"
      ]
     },
     "metadata": {
      "needs_background": "light"
     },
     "output_type": "display_data"
    }
   ],
   "source": [
    "df.plot(x='popsize', y='nit', figsize=(10, 6), grid=True)"
   ]
  },
  {
   "cell_type": "code",
   "execution_count": 29,
   "metadata": {},
   "outputs": [
    {
     "data": {
      "text/plain": [
       "<AxesSubplot:xlabel='popsize'>"
      ]
     },
     "execution_count": 29,
     "metadata": {},
     "output_type": "execute_result"
    },
    {
     "data": {
      "image/png": "[encoded data removed]",
      "text/plain": [
       "<Figure size 720x432 with 1 Axes>"
      ]
     },
     "metadata": {
      "needs_background": "light"
     },
     "output_type": "display_data"
    }
   ],
   "source": [
    "df.plot(x='popsize', y='fun', figsize=(10, 6), grid=True)"
   ]
  },
  {
   "cell_type": "code",
   "execution_count": 30,
   "metadata": {},
   "outputs": [
    {
     "data": {
      "text/html": [
       "<div>\n",
       "<style scoped>\n",
       "    .dataframe tbody tr th:only-of-type {\n",
       "        vertical-align: middle;\n",
       "    }\n",
       "\n",
       "    .dataframe tbody tr th {\n",
       "        vertical-align: top;\n",
       "    }\n",
       "\n",
       "    .dataframe thead th {\n",
       "        text-align: right;\n",
       "    }\n",
       "</style>\n",
       "<table border=\"1\" class=\"dataframe\">\n",
       "  <thead>\n",
       "    <tr style=\"text-align: right;\">\n",
       "      <th></th>\n",
       "      <th>popsize</th>\n",
       "      <th>nit</th>\n",
       "      <th>fun</th>\n",
       "    </tr>\n",
       "  </thead>\n",
       "  <tbody>\n",
       "    <tr>\n",
       "      <th>0</th>\n",
       "      <td>1.0</td>\n",
       "      <td>7.0</td>\n",
       "      <td>2.579928e+00</td>\n",
       "    </tr>\n",
       "    <tr>\n",
       "      <th>1</th>\n",
       "      <td>2.0</td>\n",
       "      <td>7.0</td>\n",
       "      <td>2.579928e+00</td>\n",
       "    </tr>\n",
       "    <tr>\n",
       "      <th>2</th>\n",
       "      <td>3.0</td>\n",
       "      <td>29.0</td>\n",
       "      <td>6.331649e-04</td>\n",
       "    </tr>\n",
       "    <tr>\n",
       "      <th>3</th>\n",
       "      <td>4.0</td>\n",
       "      <td>39.0</td>\n",
       "      <td>1.413367e-05</td>\n",
       "    </tr>\n",
       "    <tr>\n",
       "      <th>4</th>\n",
       "      <td>5.0</td>\n",
       "      <td>100.0</td>\n",
       "      <td>4.440892e-16</td>\n",
       "    </tr>\n",
       "    <tr>\n",
       "      <th>5</th>\n",
       "      <td>6.0</td>\n",
       "      <td>99.0</td>\n",
       "      <td>4.440892e-16</td>\n",
       "    </tr>\n",
       "    <tr>\n",
       "      <th>6</th>\n",
       "      <td>7.0</td>\n",
       "      <td>87.0</td>\n",
       "      <td>4.440892e-16</td>\n",
       "    </tr>\n",
       "    <tr>\n",
       "      <th>7</th>\n",
       "      <td>8.0</td>\n",
       "      <td>97.0</td>\n",
       "      <td>4.440892e-16</td>\n",
       "    </tr>\n",
       "    <tr>\n",
       "      <th>8</th>\n",
       "      <td>9.0</td>\n",
       "      <td>101.0</td>\n",
       "      <td>4.440892e-16</td>\n",
       "    </tr>\n",
       "    <tr>\n",
       "      <th>9</th>\n",
       "      <td>10.0</td>\n",
       "      <td>97.0</td>\n",
       "      <td>4.440892e-16</td>\n",
       "    </tr>\n",
       "    <tr>\n",
       "      <th>10</th>\n",
       "      <td>11.0</td>\n",
       "      <td>89.0</td>\n",
       "      <td>4.440892e-16</td>\n",
       "    </tr>\n",
       "    <tr>\n",
       "      <th>11</th>\n",
       "      <td>12.0</td>\n",
       "      <td>96.0</td>\n",
       "      <td>4.440892e-16</td>\n",
       "    </tr>\n",
       "    <tr>\n",
       "      <th>12</th>\n",
       "      <td>13.0</td>\n",
       "      <td>96.0</td>\n",
       "      <td>4.440892e-16</td>\n",
       "    </tr>\n",
       "    <tr>\n",
       "      <th>13</th>\n",
       "      <td>14.0</td>\n",
       "      <td>99.0</td>\n",
       "      <td>4.440892e-16</td>\n",
       "    </tr>\n",
       "    <tr>\n",
       "      <th>14</th>\n",
       "      <td>15.0</td>\n",
       "      <td>90.0</td>\n",
       "      <td>4.440892e-16</td>\n",
       "    </tr>\n",
       "    <tr>\n",
       "      <th>15</th>\n",
       "      <td>16.0</td>\n",
       "      <td>102.0</td>\n",
       "      <td>4.440892e-16</td>\n",
       "    </tr>\n",
       "    <tr>\n",
       "      <th>16</th>\n",
       "      <td>17.0</td>\n",
       "      <td>97.0</td>\n",
       "      <td>4.440892e-16</td>\n",
       "    </tr>\n",
       "    <tr>\n",
       "      <th>17</th>\n",
       "      <td>18.0</td>\n",
       "      <td>98.0</td>\n",
       "      <td>4.440892e-16</td>\n",
       "    </tr>\n",
       "    <tr>\n",
       "      <th>18</th>\n",
       "      <td>19.0</td>\n",
       "      <td>90.0</td>\n",
       "      <td>4.440892e-16</td>\n",
       "    </tr>\n",
       "    <tr>\n",
       "      <th>19</th>\n",
       "      <td>20.0</td>\n",
       "      <td>95.0</td>\n",
       "      <td>4.440892e-16</td>\n",
       "    </tr>\n",
       "    <tr>\n",
       "      <th>20</th>\n",
       "      <td>21.0</td>\n",
       "      <td>91.0</td>\n",
       "      <td>4.440892e-16</td>\n",
       "    </tr>\n",
       "    <tr>\n",
       "      <th>21</th>\n",
       "      <td>22.0</td>\n",
       "      <td>102.0</td>\n",
       "      <td>4.440892e-16</td>\n",
       "    </tr>\n",
       "    <tr>\n",
       "      <th>22</th>\n",
       "      <td>23.0</td>\n",
       "      <td>90.0</td>\n",
       "      <td>4.440892e-16</td>\n",
       "    </tr>\n",
       "    <tr>\n",
       "      <th>23</th>\n",
       "      <td>24.0</td>\n",
       "      <td>95.0</td>\n",
       "      <td>4.440892e-16</td>\n",
       "    </tr>\n",
       "    <tr>\n",
       "      <th>24</th>\n",
       "      <td>25.0</td>\n",
       "      <td>94.0</td>\n",
       "      <td>4.440892e-16</td>\n",
       "    </tr>\n",
       "    <tr>\n",
       "      <th>25</th>\n",
       "      <td>26.0</td>\n",
       "      <td>93.0</td>\n",
       "      <td>4.440892e-16</td>\n",
       "    </tr>\n",
       "    <tr>\n",
       "      <th>26</th>\n",
       "      <td>27.0</td>\n",
       "      <td>91.0</td>\n",
       "      <td>4.440892e-16</td>\n",
       "    </tr>\n",
       "    <tr>\n",
       "      <th>27</th>\n",
       "      <td>28.0</td>\n",
       "      <td>95.0</td>\n",
       "      <td>4.440892e-16</td>\n",
       "    </tr>\n",
       "    <tr>\n",
       "      <th>28</th>\n",
       "      <td>29.0</td>\n",
       "      <td>99.0</td>\n",
       "      <td>4.440892e-16</td>\n",
       "    </tr>\n",
       "    <tr>\n",
       "      <th>29</th>\n",
       "      <td>30.0</td>\n",
       "      <td>99.0</td>\n",
       "      <td>4.440892e-16</td>\n",
       "    </tr>\n",
       "  </tbody>\n",
       "</table>\n",
       "</div>"
      ],
      "text/plain": [
       "    popsize    nit           fun\n",
       "0       1.0    7.0  2.579928e+00\n",
       "1       2.0    7.0  2.579928e+00\n",
       "2       3.0   29.0  6.331649e-04\n",
       "3       4.0   39.0  1.413367e-05\n",
       "4       5.0  100.0  4.440892e-16\n",
       "5       6.0   99.0  4.440892e-16\n",
       "6       7.0   87.0  4.440892e-16\n",
       "7       8.0   97.0  4.440892e-16\n",
       "8       9.0  101.0  4.440892e-16\n",
       "9      10.0   97.0  4.440892e-16\n",
       "10     11.0   89.0  4.440892e-16\n",
       "11     12.0   96.0  4.440892e-16\n",
       "12     13.0   96.0  4.440892e-16\n",
       "13     14.0   99.0  4.440892e-16\n",
       "14     15.0   90.0  4.440892e-16\n",
       "15     16.0  102.0  4.440892e-16\n",
       "16     17.0   97.0  4.440892e-16\n",
       "17     18.0   98.0  4.440892e-16\n",
       "18     19.0   90.0  4.440892e-16\n",
       "19     20.0   95.0  4.440892e-16\n",
       "20     21.0   91.0  4.440892e-16\n",
       "21     22.0  102.0  4.440892e-16\n",
       "22     23.0   90.0  4.440892e-16\n",
       "23     24.0   95.0  4.440892e-16\n",
       "24     25.0   94.0  4.440892e-16\n",
       "25     26.0   93.0  4.440892e-16\n",
       "26     27.0   91.0  4.440892e-16\n",
       "27     28.0   95.0  4.440892e-16\n",
       "28     29.0   99.0  4.440892e-16\n",
       "29     30.0   99.0  4.440892e-16"
      ]
     },
     "execution_count": 30,
     "metadata": {},
     "output_type": "execute_result"
    }
   ],
   "source": [
    "df"
   ]
  },
  {
   "cell_type": "markdown",
   "metadata": {},
   "source": [
    "Видим, что минимальное значение итераций достигается при popsize от 1 до 4, а при бОльших значениях параметра количество итераций резко увеличивается и колеблется около значения 100. Однако при popsize < 5 имеем достаточно неточный результат поиска глобального минимума. Найденное значение заметно отличается от 0, который является глобальным минимумом функции. При popsize>=5 результат уже корректный (и одинаковый для всех значений параметра)      "
   ]
  },
  {
   "cell_type": "code",
   "execution_count": 35,
   "metadata": {},
   "outputs": [
    {
     "data": {
      "text/html": [
       "<div>\n",
       "<style scoped>\n",
       "    .dataframe tbody tr th:only-of-type {\n",
       "        vertical-align: middle;\n",
       "    }\n",
       "\n",
       "    .dataframe tbody tr th {\n",
       "        vertical-align: top;\n",
       "    }\n",
       "\n",
       "    .dataframe thead th {\n",
       "        text-align: right;\n",
       "    }\n",
       "</style>\n",
       "<table border=\"1\" class=\"dataframe\">\n",
       "  <thead>\n",
       "    <tr style=\"text-align: right;\">\n",
       "      <th></th>\n",
       "      <th>popsize</th>\n",
       "      <th>nit</th>\n",
       "      <th>fun</th>\n",
       "    </tr>\n",
       "  </thead>\n",
       "  <tbody>\n",
       "    <tr>\n",
       "      <th>6</th>\n",
       "      <td>7.0</td>\n",
       "      <td>87.0</td>\n",
       "      <td>4.440892e-16</td>\n",
       "    </tr>\n",
       "  </tbody>\n",
       "</table>\n",
       "</div>"
      ],
      "text/plain": [
       "   popsize   nit           fun\n",
       "6      7.0  87.0  4.440892e-16"
      ]
     },
     "execution_count": 35,
     "metadata": {},
     "output_type": "execute_result"
    }
   ],
   "source": [
    "# Найдем минимальное количество итераций для popsize>4\n",
    "df[(df.nit==df.iloc[4:].nit.min())]"
   ]
  },
  {
   "cell_type": "markdown",
   "metadata": {},
   "source": [
    "Получили минимальное количество итераций = 87 при popsize=7. Однако стоит заметить, что этот количество не сильно меньше количества итераций (90), полученных при использовании параметра по умолчанию"
   ]
  },
  {
   "cell_type": "code",
   "execution_count": 39,
   "metadata": {},
   "outputs": [
    {
     "data": {
      "text/html": [
       "<div>\n",
       "<style scoped>\n",
       "    .dataframe tbody tr th:only-of-type {\n",
       "        vertical-align: middle;\n",
       "    }\n",
       "\n",
       "    .dataframe tbody tr th {\n",
       "        vertical-align: top;\n",
       "    }\n",
       "\n",
       "    .dataframe thead th {\n",
       "        text-align: right;\n",
       "    }\n",
       "</style>\n",
       "<table border=\"1\" class=\"dataframe\">\n",
       "  <thead>\n",
       "    <tr style=\"text-align: right;\">\n",
       "      <th></th>\n",
       "      <th>tol</th>\n",
       "      <th>nit</th>\n",
       "      <th>fun</th>\n",
       "    </tr>\n",
       "  </thead>\n",
       "  <tbody>\n",
       "    <tr>\n",
       "      <th>0</th>\n",
       "      <td>0.00000</td>\n",
       "      <td>90.0</td>\n",
       "      <td>4.440892e-16</td>\n",
       "    </tr>\n",
       "    <tr>\n",
       "      <th>1</th>\n",
       "      <td>0.00001</td>\n",
       "      <td>90.0</td>\n",
       "      <td>4.440892e-16</td>\n",
       "    </tr>\n",
       "    <tr>\n",
       "      <th>2</th>\n",
       "      <td>0.00010</td>\n",
       "      <td>90.0</td>\n",
       "      <td>4.440892e-16</td>\n",
       "    </tr>\n",
       "    <tr>\n",
       "      <th>3</th>\n",
       "      <td>0.00100</td>\n",
       "      <td>90.0</td>\n",
       "      <td>4.440892e-16</td>\n",
       "    </tr>\n",
       "    <tr>\n",
       "      <th>4</th>\n",
       "      <td>0.01000</td>\n",
       "      <td>90.0</td>\n",
       "      <td>4.440892e-16</td>\n",
       "    </tr>\n",
       "    <tr>\n",
       "      <th>5</th>\n",
       "      <td>0.10000</td>\n",
       "      <td>90.0</td>\n",
       "      <td>4.440892e-16</td>\n",
       "    </tr>\n",
       "    <tr>\n",
       "      <th>6</th>\n",
       "      <td>0.30000</td>\n",
       "      <td>90.0</td>\n",
       "      <td>4.440892e-16</td>\n",
       "    </tr>\n",
       "    <tr>\n",
       "      <th>7</th>\n",
       "      <td>0.50000</td>\n",
       "      <td>1.0</td>\n",
       "      <td>2.579928e+00</td>\n",
       "    </tr>\n",
       "    <tr>\n",
       "      <th>8</th>\n",
       "      <td>0.75000</td>\n",
       "      <td>1.0</td>\n",
       "      <td>2.579928e+00</td>\n",
       "    </tr>\n",
       "    <tr>\n",
       "      <th>9</th>\n",
       "      <td>1.00000</td>\n",
       "      <td>1.0</td>\n",
       "      <td>2.579928e+00</td>\n",
       "    </tr>\n",
       "  </tbody>\n",
       "</table>\n",
       "</div>"
      ],
      "text/plain": [
       "       tol   nit           fun\n",
       "0  0.00000  90.0  4.440892e-16\n",
       "1  0.00001  90.0  4.440892e-16\n",
       "2  0.00010  90.0  4.440892e-16\n",
       "3  0.00100  90.0  4.440892e-16\n",
       "4  0.01000  90.0  4.440892e-16\n",
       "5  0.10000  90.0  4.440892e-16\n",
       "6  0.30000  90.0  4.440892e-16\n",
       "7  0.50000   1.0  2.579928e+00\n",
       "8  0.75000   1.0  2.579928e+00\n",
       "9  1.00000   1.0  2.579928e+00"
      ]
     },
     "execution_count": 39,
     "metadata": {},
     "output_type": "execute_result"
    }
   ],
   "source": [
    "# Будем изменять параметр tol - относительный допуск для сходимости (возможно, не совсем точно перевела описание параметра)\n",
    "# По умолчанию tol = 0.01. \n",
    "# Это параметр, отвечающий за остановку алгоритма. Интуиция такова, что при маленьких значениях tol < 0.01 мы будем получать\n",
    "# точный результат, но при бОльшем количестве итераций. При росте значения tol количество итераций будет уменьшаться,\n",
    "# но, возможно, упадет и точность результата. Проверим.\n",
    "\n",
    "tol_list = [0, 0.00001, 0.0001, 0.001, 0.01, 0.1, 0.3, 0.5, 0.75, 1]\n",
    "\n",
    "df.iloc[0:0]\n",
    "df = pd.DataFrame(columns=['tol', 'nit', 'fun'])\n",
    "\n",
    "for tol in tol_list:\n",
    "    res = differential_evolution(ackley, bounds, tol=tol, seed=42)\n",
    "    df.loc[len(df)] = [tol, res.nit, res.fun]\n",
    "    \n",
    "df"
   ]
  },
  {
   "cell_type": "code",
   "execution_count": 40,
   "metadata": {},
   "outputs": [
    {
     "data": {
      "text/plain": [
       "<AxesSubplot:xlabel='tol'>"
      ]
     },
     "execution_count": 40,
     "metadata": {},
     "output_type": "execute_result"
    },
    {
     "data": {
      "image/png": "[encoded data removed]",
      "text/plain": [
       "<Figure size 720x432 with 1 Axes>"
      ]
     },
     "metadata": {
      "needs_background": "light"
     },
     "output_type": "display_data"
    }
   ],
   "source": [
    "df.plot.bar(x='tol', y='nit', figsize=(10, 6))"
   ]
  },
  {
   "cell_type": "markdown",
   "metadata": {},
   "source": [
    "Интуиция подтвердилась лишь частично. В итоге получили, что при достаточно малых значениях tol количество итераций неизменно и совпадает с результатом по умолчанию (а я предполагала, что оно будет больше 90) и результат корректен. При достаточно больших значениях tol количество итераций сводится до 1, но и минимум мы получили неточно."
   ]
  },
  {
   "cell_type": "code",
   "execution_count": 47,
   "metadata": {},
   "outputs": [
    {
     "data": {
      "text/html": [
       "<div>\n",
       "<style scoped>\n",
       "    .dataframe tbody tr th:only-of-type {\n",
       "        vertical-align: middle;\n",
       "    }\n",
       "\n",
       "    .dataframe tbody tr th {\n",
       "        vertical-align: top;\n",
       "    }\n",
       "\n",
       "    .dataframe thead th {\n",
       "        text-align: right;\n",
       "    }\n",
       "</style>\n",
       "<table border=\"1\" class=\"dataframe\">\n",
       "  <thead>\n",
       "    <tr style=\"text-align: right;\">\n",
       "      <th></th>\n",
       "      <th>mutation</th>\n",
       "      <th>nit</th>\n",
       "      <th>fun</th>\n",
       "    </tr>\n",
       "  </thead>\n",
       "  <tbody>\n",
       "    <tr>\n",
       "      <th>0</th>\n",
       "      <td>0.000000</td>\n",
       "      <td>3.0</td>\n",
       "      <td>3.574452e+00</td>\n",
       "    </tr>\n",
       "    <tr>\n",
       "      <th>1</th>\n",
       "      <td>0.066667</td>\n",
       "      <td>14.0</td>\n",
       "      <td>4.342964e-08</td>\n",
       "    </tr>\n",
       "    <tr>\n",
       "      <th>2</th>\n",
       "      <td>0.133333</td>\n",
       "      <td>25.0</td>\n",
       "      <td>4.440892e-16</td>\n",
       "    </tr>\n",
       "    <tr>\n",
       "      <th>3</th>\n",
       "      <td>0.200000</td>\n",
       "      <td>28.0</td>\n",
       "      <td>4.440892e-16</td>\n",
       "    </tr>\n",
       "    <tr>\n",
       "      <th>4</th>\n",
       "      <td>0.266667</td>\n",
       "      <td>34.0</td>\n",
       "      <td>4.440892e-16</td>\n",
       "    </tr>\n",
       "    <tr>\n",
       "      <th>5</th>\n",
       "      <td>0.333333</td>\n",
       "      <td>39.0</td>\n",
       "      <td>4.440892e-16</td>\n",
       "    </tr>\n",
       "    <tr>\n",
       "      <th>6</th>\n",
       "      <td>0.400000</td>\n",
       "      <td>47.0</td>\n",
       "      <td>4.440892e-16</td>\n",
       "    </tr>\n",
       "    <tr>\n",
       "      <th>7</th>\n",
       "      <td>0.466667</td>\n",
       "      <td>55.0</td>\n",
       "      <td>4.440892e-16</td>\n",
       "    </tr>\n",
       "    <tr>\n",
       "      <th>8</th>\n",
       "      <td>0.533333</td>\n",
       "      <td>62.0</td>\n",
       "      <td>4.440892e-16</td>\n",
       "    </tr>\n",
       "    <tr>\n",
       "      <th>9</th>\n",
       "      <td>0.600000</td>\n",
       "      <td>76.0</td>\n",
       "      <td>4.440892e-16</td>\n",
       "    </tr>\n",
       "    <tr>\n",
       "      <th>10</th>\n",
       "      <td>0.666667</td>\n",
       "      <td>86.0</td>\n",
       "      <td>4.440892e-16</td>\n",
       "    </tr>\n",
       "    <tr>\n",
       "      <th>11</th>\n",
       "      <td>0.733333</td>\n",
       "      <td>100.0</td>\n",
       "      <td>4.440892e-16</td>\n",
       "    </tr>\n",
       "    <tr>\n",
       "      <th>12</th>\n",
       "      <td>0.800000</td>\n",
       "      <td>104.0</td>\n",
       "      <td>4.440892e-16</td>\n",
       "    </tr>\n",
       "    <tr>\n",
       "      <th>13</th>\n",
       "      <td>0.866667</td>\n",
       "      <td>117.0</td>\n",
       "      <td>4.440892e-16</td>\n",
       "    </tr>\n",
       "    <tr>\n",
       "      <th>14</th>\n",
       "      <td>0.933333</td>\n",
       "      <td>147.0</td>\n",
       "      <td>4.440892e-16</td>\n",
       "    </tr>\n",
       "    <tr>\n",
       "      <th>15</th>\n",
       "      <td>1.000000</td>\n",
       "      <td>138.0</td>\n",
       "      <td>1.283418e-13</td>\n",
       "    </tr>\n",
       "    <tr>\n",
       "      <th>16</th>\n",
       "      <td>1.066667</td>\n",
       "      <td>169.0</td>\n",
       "      <td>4.440892e-16</td>\n",
       "    </tr>\n",
       "    <tr>\n",
       "      <th>17</th>\n",
       "      <td>1.133333</td>\n",
       "      <td>200.0</td>\n",
       "      <td>4.440892e-16</td>\n",
       "    </tr>\n",
       "    <tr>\n",
       "      <th>18</th>\n",
       "      <td>1.200000</td>\n",
       "      <td>199.0</td>\n",
       "      <td>4.440892e-16</td>\n",
       "    </tr>\n",
       "    <tr>\n",
       "      <th>19</th>\n",
       "      <td>1.266667</td>\n",
       "      <td>233.0</td>\n",
       "      <td>4.440892e-16</td>\n",
       "    </tr>\n",
       "    <tr>\n",
       "      <th>20</th>\n",
       "      <td>1.333333</td>\n",
       "      <td>245.0</td>\n",
       "      <td>4.440892e-16</td>\n",
       "    </tr>\n",
       "    <tr>\n",
       "      <th>21</th>\n",
       "      <td>1.400000</td>\n",
       "      <td>269.0</td>\n",
       "      <td>4.440892e-16</td>\n",
       "    </tr>\n",
       "    <tr>\n",
       "      <th>22</th>\n",
       "      <td>1.466667</td>\n",
       "      <td>263.0</td>\n",
       "      <td>4.440892e-16</td>\n",
       "    </tr>\n",
       "    <tr>\n",
       "      <th>23</th>\n",
       "      <td>1.533333</td>\n",
       "      <td>283.0</td>\n",
       "      <td>4.440892e-16</td>\n",
       "    </tr>\n",
       "    <tr>\n",
       "      <th>24</th>\n",
       "      <td>1.600000</td>\n",
       "      <td>176.0</td>\n",
       "      <td>1.986431e-08</td>\n",
       "    </tr>\n",
       "    <tr>\n",
       "      <th>25</th>\n",
       "      <td>1.666667</td>\n",
       "      <td>337.0</td>\n",
       "      <td>3.996803e-15</td>\n",
       "    </tr>\n",
       "    <tr>\n",
       "      <th>26</th>\n",
       "      <td>1.733333</td>\n",
       "      <td>154.0</td>\n",
       "      <td>1.993047e-08</td>\n",
       "    </tr>\n",
       "    <tr>\n",
       "      <th>27</th>\n",
       "      <td>1.800000</td>\n",
       "      <td>245.0</td>\n",
       "      <td>7.294121e-11</td>\n",
       "    </tr>\n",
       "    <tr>\n",
       "      <th>28</th>\n",
       "      <td>1.866667</td>\n",
       "      <td>150.0</td>\n",
       "      <td>1.430682e-08</td>\n",
       "    </tr>\n",
       "    <tr>\n",
       "      <th>29</th>\n",
       "      <td>1.933333</td>\n",
       "      <td>382.0</td>\n",
       "      <td>1.187050e-12</td>\n",
       "    </tr>\n",
       "  </tbody>\n",
       "</table>\n",
       "</div>"
      ],
      "text/plain": [
       "    mutation    nit           fun\n",
       "0   0.000000    3.0  3.574452e+00\n",
       "1   0.066667   14.0  4.342964e-08\n",
       "2   0.133333   25.0  4.440892e-16\n",
       "3   0.200000   28.0  4.440892e-16\n",
       "4   0.266667   34.0  4.440892e-16\n",
       "5   0.333333   39.0  4.440892e-16\n",
       "6   0.400000   47.0  4.440892e-16\n",
       "7   0.466667   55.0  4.440892e-16\n",
       "8   0.533333   62.0  4.440892e-16\n",
       "9   0.600000   76.0  4.440892e-16\n",
       "10  0.666667   86.0  4.440892e-16\n",
       "11  0.733333  100.0  4.440892e-16\n",
       "12  0.800000  104.0  4.440892e-16\n",
       "13  0.866667  117.0  4.440892e-16\n",
       "14  0.933333  147.0  4.440892e-16\n",
       "15  1.000000  138.0  1.283418e-13\n",
       "16  1.066667  169.0  4.440892e-16\n",
       "17  1.133333  200.0  4.440892e-16\n",
       "18  1.200000  199.0  4.440892e-16\n",
       "19  1.266667  233.0  4.440892e-16\n",
       "20  1.333333  245.0  4.440892e-16\n",
       "21  1.400000  269.0  4.440892e-16\n",
       "22  1.466667  263.0  4.440892e-16\n",
       "23  1.533333  283.0  4.440892e-16\n",
       "24  1.600000  176.0  1.986431e-08\n",
       "25  1.666667  337.0  3.996803e-15\n",
       "26  1.733333  154.0  1.993047e-08\n",
       "27  1.800000  245.0  7.294121e-11\n",
       "28  1.866667  150.0  1.430682e-08\n",
       "29  1.933333  382.0  1.187050e-12"
      ]
     },
     "execution_count": 47,
     "metadata": {},
     "output_type": "execute_result"
    }
   ],
   "source": [
    "# Будем изменять параметр mutation - константу мутации.\n",
    "# В документации сказано, что значение этого параметра задается в диапазоне [0, 2). Этими значениями и воспользуемся.\n",
    "# По умолчанию mutation = 0.5\n",
    "\n",
    "df.iloc[0:0]\n",
    "df = pd.DataFrame(columns=['mutation', 'nit', 'fun'])\n",
    "\n",
    "for mutation in np.linspace(0, 2, 30, endpoint=False):\n",
    "    res = differential_evolution(ackley, bounds, mutation=mutation, seed=42)\n",
    "    df.loc[len(df)] = [mutation, res.nit, res.fun]\n",
    "    \n",
    "df"
   ]
  },
  {
   "cell_type": "code",
   "execution_count": 48,
   "metadata": {},
   "outputs": [
    {
     "data": {
      "text/plain": [
       "<AxesSubplot:xlabel='mutation'>"
      ]
     },
     "execution_count": 48,
     "metadata": {},
     "output_type": "execute_result"
    },
    {
     "data": {
      "image/png": "[encoded data removed]",
      "text/plain": [
       "<Figure size 720x432 with 1 Axes>"
      ]
     },
     "metadata": {
      "needs_background": "light"
     },
     "output_type": "display_data"
    }
   ],
   "source": [
    "df.plot(x='mutation', y='nit', figsize=(10, 6), grid=True)"
   ]
  },
  {
   "cell_type": "code",
   "execution_count": 50,
   "metadata": {},
   "outputs": [
    {
     "data": {
      "text/plain": [
       "<AxesSubplot:xlabel='mutation'>"
      ]
     },
     "execution_count": 50,
     "metadata": {},
     "output_type": "execute_result"
    },
    {
     "data": {
      "image/png": "[encoded data removed]",
      "text/plain": [
       "<Figure size 720x432 with 1 Axes>"
      ]
     },
     "metadata": {
      "needs_background": "light"
     },
     "output_type": "display_data"
    }
   ],
   "source": [
    "df.plot(x='mutation', y='fun', figsize=(10, 6), grid=True)"
   ]
  },
  {
   "cell_type": "markdown",
   "metadata": {},
   "source": [
    "Получили, что при увеличении параметра mutation до некоторого значения наблюдается прямая зависимость между параметром и количеством итераций, но после mutation приблизительно равного 1,5 поведение количества итераций довольно хаотично - оно то растет, то падает (но в любом случае больше 90 итераций из вызова с параметрами по умолчанию). \n",
    "\n",
    "Так же при малых значениях mutation снова получаем неточный минимум исходной функции. При достаточно больших значениях mutation если мы посмотрим на датасет с результатами, то увидим, что найденные минимумы различны и определенно больше минимума, найденного с параметрами по умолчанию. Тем не менее они достаточно малы, чтобы разница с оптимальным минимумом не была заметна на визуализации, а также при достаточно точном округлении (не менее 8 знаков после запятой)\n"
   ]
  },
  {
   "cell_type": "code",
   "execution_count": 52,
   "metadata": {},
   "outputs": [
    {
     "data": {
      "text/html": [
       "<div>\n",
       "<style scoped>\n",
       "    .dataframe tbody tr th:only-of-type {\n",
       "        vertical-align: middle;\n",
       "    }\n",
       "\n",
       "    .dataframe tbody tr th {\n",
       "        vertical-align: top;\n",
       "    }\n",
       "\n",
       "    .dataframe thead th {\n",
       "        text-align: right;\n",
       "    }\n",
       "</style>\n",
       "<table border=\"1\" class=\"dataframe\">\n",
       "  <thead>\n",
       "    <tr style=\"text-align: right;\">\n",
       "      <th></th>\n",
       "      <th>recombination</th>\n",
       "      <th>nit</th>\n",
       "      <th>fun</th>\n",
       "    </tr>\n",
       "  </thead>\n",
       "  <tbody>\n",
       "    <tr>\n",
       "      <th>0</th>\n",
       "      <td>0.010000</td>\n",
       "      <td>116.0</td>\n",
       "      <td>4.440892e-16</td>\n",
       "    </tr>\n",
       "    <tr>\n",
       "      <th>1</th>\n",
       "      <td>0.043793</td>\n",
       "      <td>110.0</td>\n",
       "      <td>4.440892e-16</td>\n",
       "    </tr>\n",
       "    <tr>\n",
       "      <th>2</th>\n",
       "      <td>0.077586</td>\n",
       "      <td>114.0</td>\n",
       "      <td>4.440892e-16</td>\n",
       "    </tr>\n",
       "    <tr>\n",
       "      <th>3</th>\n",
       "      <td>0.111379</td>\n",
       "      <td>116.0</td>\n",
       "      <td>4.440892e-16</td>\n",
       "    </tr>\n",
       "    <tr>\n",
       "      <th>4</th>\n",
       "      <td>0.145172</td>\n",
       "      <td>122.0</td>\n",
       "      <td>4.440892e-16</td>\n",
       "    </tr>\n",
       "    <tr>\n",
       "      <th>5</th>\n",
       "      <td>0.178966</td>\n",
       "      <td>116.0</td>\n",
       "      <td>4.440892e-16</td>\n",
       "    </tr>\n",
       "    <tr>\n",
       "      <th>6</th>\n",
       "      <td>0.212759</td>\n",
       "      <td>122.0</td>\n",
       "      <td>4.440892e-16</td>\n",
       "    </tr>\n",
       "    <tr>\n",
       "      <th>7</th>\n",
       "      <td>0.246552</td>\n",
       "      <td>109.0</td>\n",
       "      <td>4.440892e-16</td>\n",
       "    </tr>\n",
       "    <tr>\n",
       "      <th>8</th>\n",
       "      <td>0.280345</td>\n",
       "      <td>117.0</td>\n",
       "      <td>4.440892e-16</td>\n",
       "    </tr>\n",
       "    <tr>\n",
       "      <th>9</th>\n",
       "      <td>0.314138</td>\n",
       "      <td>108.0</td>\n",
       "      <td>4.440892e-16</td>\n",
       "    </tr>\n",
       "    <tr>\n",
       "      <th>10</th>\n",
       "      <td>0.347931</td>\n",
       "      <td>105.0</td>\n",
       "      <td>4.440892e-16</td>\n",
       "    </tr>\n",
       "    <tr>\n",
       "      <th>11</th>\n",
       "      <td>0.381724</td>\n",
       "      <td>107.0</td>\n",
       "      <td>4.440892e-16</td>\n",
       "    </tr>\n",
       "    <tr>\n",
       "      <th>12</th>\n",
       "      <td>0.415517</td>\n",
       "      <td>104.0</td>\n",
       "      <td>4.440892e-16</td>\n",
       "    </tr>\n",
       "    <tr>\n",
       "      <th>13</th>\n",
       "      <td>0.449310</td>\n",
       "      <td>105.0</td>\n",
       "      <td>4.440892e-16</td>\n",
       "    </tr>\n",
       "    <tr>\n",
       "      <th>14</th>\n",
       "      <td>0.483103</td>\n",
       "      <td>109.0</td>\n",
       "      <td>4.440892e-16</td>\n",
       "    </tr>\n",
       "    <tr>\n",
       "      <th>15</th>\n",
       "      <td>0.516897</td>\n",
       "      <td>103.0</td>\n",
       "      <td>4.440892e-16</td>\n",
       "    </tr>\n",
       "    <tr>\n",
       "      <th>16</th>\n",
       "      <td>0.550690</td>\n",
       "      <td>100.0</td>\n",
       "      <td>4.440892e-16</td>\n",
       "    </tr>\n",
       "    <tr>\n",
       "      <th>17</th>\n",
       "      <td>0.584483</td>\n",
       "      <td>98.0</td>\n",
       "      <td>4.440892e-16</td>\n",
       "    </tr>\n",
       "    <tr>\n",
       "      <th>18</th>\n",
       "      <td>0.618276</td>\n",
       "      <td>97.0</td>\n",
       "      <td>4.440892e-16</td>\n",
       "    </tr>\n",
       "    <tr>\n",
       "      <th>19</th>\n",
       "      <td>0.652069</td>\n",
       "      <td>102.0</td>\n",
       "      <td>4.440892e-16</td>\n",
       "    </tr>\n",
       "    <tr>\n",
       "      <th>20</th>\n",
       "      <td>0.685862</td>\n",
       "      <td>95.0</td>\n",
       "      <td>4.440892e-16</td>\n",
       "    </tr>\n",
       "    <tr>\n",
       "      <th>21</th>\n",
       "      <td>0.719655</td>\n",
       "      <td>91.0</td>\n",
       "      <td>4.440892e-16</td>\n",
       "    </tr>\n",
       "    <tr>\n",
       "      <th>22</th>\n",
       "      <td>0.753448</td>\n",
       "      <td>86.0</td>\n",
       "      <td>4.440892e-16</td>\n",
       "    </tr>\n",
       "    <tr>\n",
       "      <th>23</th>\n",
       "      <td>0.787241</td>\n",
       "      <td>88.0</td>\n",
       "      <td>4.440892e-16</td>\n",
       "    </tr>\n",
       "    <tr>\n",
       "      <th>24</th>\n",
       "      <td>0.821034</td>\n",
       "      <td>90.0</td>\n",
       "      <td>4.440892e-16</td>\n",
       "    </tr>\n",
       "    <tr>\n",
       "      <th>25</th>\n",
       "      <td>0.854828</td>\n",
       "      <td>91.0</td>\n",
       "      <td>4.440892e-16</td>\n",
       "    </tr>\n",
       "    <tr>\n",
       "      <th>26</th>\n",
       "      <td>0.888621</td>\n",
       "      <td>87.0</td>\n",
       "      <td>4.440892e-16</td>\n",
       "    </tr>\n",
       "    <tr>\n",
       "      <th>27</th>\n",
       "      <td>0.922414</td>\n",
       "      <td>89.0</td>\n",
       "      <td>4.440892e-16</td>\n",
       "    </tr>\n",
       "    <tr>\n",
       "      <th>28</th>\n",
       "      <td>0.956207</td>\n",
       "      <td>85.0</td>\n",
       "      <td>4.440892e-16</td>\n",
       "    </tr>\n",
       "    <tr>\n",
       "      <th>29</th>\n",
       "      <td>0.990000</td>\n",
       "      <td>80.0</td>\n",
       "      <td>4.440892e-16</td>\n",
       "    </tr>\n",
       "  </tbody>\n",
       "</table>\n",
       "</div>"
      ],
      "text/plain": [
       "    recombination    nit           fun\n",
       "0        0.010000  116.0  4.440892e-16\n",
       "1        0.043793  110.0  4.440892e-16\n",
       "2        0.077586  114.0  4.440892e-16\n",
       "3        0.111379  116.0  4.440892e-16\n",
       "4        0.145172  122.0  4.440892e-16\n",
       "5        0.178966  116.0  4.440892e-16\n",
       "6        0.212759  122.0  4.440892e-16\n",
       "7        0.246552  109.0  4.440892e-16\n",
       "8        0.280345  117.0  4.440892e-16\n",
       "9        0.314138  108.0  4.440892e-16\n",
       "10       0.347931  105.0  4.440892e-16\n",
       "11       0.381724  107.0  4.440892e-16\n",
       "12       0.415517  104.0  4.440892e-16\n",
       "13       0.449310  105.0  4.440892e-16\n",
       "14       0.483103  109.0  4.440892e-16\n",
       "15       0.516897  103.0  4.440892e-16\n",
       "16       0.550690  100.0  4.440892e-16\n",
       "17       0.584483   98.0  4.440892e-16\n",
       "18       0.618276   97.0  4.440892e-16\n",
       "19       0.652069  102.0  4.440892e-16\n",
       "20       0.685862   95.0  4.440892e-16\n",
       "21       0.719655   91.0  4.440892e-16\n",
       "22       0.753448   86.0  4.440892e-16\n",
       "23       0.787241   88.0  4.440892e-16\n",
       "24       0.821034   90.0  4.440892e-16\n",
       "25       0.854828   91.0  4.440892e-16\n",
       "26       0.888621   87.0  4.440892e-16\n",
       "27       0.922414   89.0  4.440892e-16\n",
       "28       0.956207   85.0  4.440892e-16\n",
       "29       0.990000   80.0  4.440892e-16"
      ]
     },
     "execution_count": 52,
     "metadata": {},
     "output_type": "execute_result"
    }
   ],
   "source": [
    "# Будем изменять параметр recombination - параметр, отвечающий за вероятность перехода \"генов\".\n",
    "# Значение этого параметра задается в диапазоне (0, 1). \n",
    "# По умолчанию mutation = 0.7\n",
    "\n",
    "df.iloc[0:0]\n",
    "df = pd.DataFrame(columns=['recombination', 'nit', 'fun'])\n",
    "\n",
    "for rec in np.linspace(0.01, 0.99, 30):\n",
    "    res = differential_evolution(ackley, bounds, recombination=rec, seed=42)\n",
    "    df.loc[len(df)] = [rec, res.nit, res.fun]\n",
    "    \n",
    "df"
   ]
  },
  {
   "cell_type": "code",
   "execution_count": 54,
   "metadata": {},
   "outputs": [
    {
     "data": {
      "text/plain": [
       "<AxesSubplot:xlabel='recombination'>"
      ]
     },
     "execution_count": 54,
     "metadata": {},
     "output_type": "execute_result"
    },
    {
     "data": {
      "image/png": "[encoded data removed]",
      "text/plain": [
       "<Figure size 720x432 with 1 Axes>"
      ]
     },
     "metadata": {
      "needs_background": "light"
     },
     "output_type": "display_data"
    }
   ],
   "source": [
    "df.plot(x='recombination', y='nit', figsize=(10, 6), grid=True)"
   ]
  },
  {
   "cell_type": "markdown",
   "metadata": {},
   "source": [
    "Общая тенденция - при росте recombination количество итераций снижается. Однако какой-то строгой зависимости между параметрами не наблюдается.   \n",
    "Зато минимум получен точный при всех тестовых значениях recombination"
   ]
  },
  {
   "cell_type": "code",
   "execution_count": 57,
   "metadata": {},
   "outputs": [
    {
     "data": {
      "text/html": [
       "<div>\n",
       "<style scoped>\n",
       "    .dataframe tbody tr th:only-of-type {\n",
       "        vertical-align: middle;\n",
       "    }\n",
       "\n",
       "    .dataframe tbody tr th {\n",
       "        vertical-align: top;\n",
       "    }\n",
       "\n",
       "    .dataframe thead th {\n",
       "        text-align: right;\n",
       "    }\n",
       "</style>\n",
       "<table border=\"1\" class=\"dataframe\">\n",
       "  <thead>\n",
       "    <tr style=\"text-align: right;\">\n",
       "      <th></th>\n",
       "      <th>updating</th>\n",
       "      <th>nit</th>\n",
       "      <th>fun</th>\n",
       "    </tr>\n",
       "  </thead>\n",
       "  <tbody>\n",
       "    <tr>\n",
       "      <th>0</th>\n",
       "      <td>immediate</td>\n",
       "      <td>90</td>\n",
       "      <td>4.440892e-16</td>\n",
       "    </tr>\n",
       "    <tr>\n",
       "      <th>1</th>\n",
       "      <td>deferred</td>\n",
       "      <td>122</td>\n",
       "      <td>4.440892e-16</td>\n",
       "    </tr>\n",
       "  </tbody>\n",
       "</table>\n",
       "</div>"
      ],
      "text/plain": [
       "    updating  nit           fun\n",
       "0  immediate   90  4.440892e-16\n",
       "1   deferred  122  4.440892e-16"
      ]
     },
     "execution_count": 57,
     "metadata": {},
     "output_type": "execute_result"
    }
   ],
   "source": [
    "# Будем изменять параметр updating - немедленное или отложенное обновление вектора наилучшего решения\n",
    "# По умолчанию updating = 'immidiate'\n",
    "\n",
    "df.iloc[0:0]\n",
    "df = pd.DataFrame(columns=['updating', 'nit', 'fun'])\n",
    "\n",
    "for upd in ['immediate', 'deferred']:\n",
    "    res = differential_evolution(ackley, bounds, updating=upd, seed=42)\n",
    "    df.loc[len(df)] = [upd, res.nit, res.fun]\n",
    "    \n",
    "df"
   ]
  },
  {
   "cell_type": "code",
   "execution_count": 58,
   "metadata": {},
   "outputs": [
    {
     "data": {
      "text/plain": [
       "<AxesSubplot:xlabel='updating'>"
      ]
     },
     "execution_count": 58,
     "metadata": {},
     "output_type": "execute_result"
    },
    {
     "data": {
      "image/png": "[encoded data removed]",
      "text/plain": [
       "<Figure size 576x432 with 1 Axes>"
      ]
     },
     "metadata": {
      "needs_background": "light"
     },
     "output_type": "display_data"
    }
   ],
   "source": [
    "df.plot.bar(x='updating', y='nit', figsize=(8, 6), grid=True)"
   ]
  },
  {
   "cell_type": "markdown",
   "metadata": {},
   "source": [
    "Результат получен точный в обоих случаях, но количество итераций меньше при немедленном обновлении "
   ]
  },
  {
   "cell_type": "markdown",
   "metadata": {},
   "source": [
    "### дополнительное задание\n",
    "\n",
    "Найти множество параметров (strategy=..., ..., updating=...), которые требуют минимального количества итераций."
   ]
  },
  {
   "cell_type": "code",
   "execution_count": 3,
   "metadata": {},
   "outputs": [],
   "source": [
    "strategies = ['best1bin',\n",
    "            'best1exp',\n",
    "            'rand1exp',\n",
    "            'randtobest1exp',\n",
    "            'currenttobest1exp',\n",
    "            'best2exp',\n",
    "            'rand2exp',\n",
    "            'randtobest1bin',\n",
    "            'currenttobest1bin',\n",
    "            'best2bin',\n",
    "            'rand2bin',\n",
    "            'rand1bin']\n",
    "\n",
    "updatings = ['immediate', 'deferred']\n",
    "\n",
    "mutations = np.linspace(0.1, 1, 30)"
   ]
  },
  {
   "cell_type": "markdown",
   "metadata": {},
   "source": [
    "В качестве 3го параметра, который я буду изменять, возьму mutation, т.к. при малых значениях этого параметра получалось заметно меньшее количество итераций при точном нахождении минимума. "
   ]
  },
  {
   "cell_type": "code",
   "execution_count": 5,
   "metadata": {},
   "outputs": [],
   "source": [
    "df = pd.DataFrame()"
   ]
  },
  {
   "cell_type": "code",
   "execution_count": 6,
   "metadata": {},
   "outputs": [
    {
     "data": {
      "text/html": [
       "<div>\n",
       "<style scoped>\n",
       "    .dataframe tbody tr th:only-of-type {\n",
       "        vertical-align: middle;\n",
       "    }\n",
       "\n",
       "    .dataframe tbody tr th {\n",
       "        vertical-align: top;\n",
       "    }\n",
       "\n",
       "    .dataframe thead th {\n",
       "        text-align: right;\n",
       "    }\n",
       "</style>\n",
       "<table border=\"1\" class=\"dataframe\">\n",
       "  <thead>\n",
       "    <tr style=\"text-align: right;\">\n",
       "      <th></th>\n",
       "      <th>updating</th>\n",
       "      <th>strategy</th>\n",
       "      <th>mutation</th>\n",
       "      <th>nit</th>\n",
       "      <th>fun</th>\n",
       "    </tr>\n",
       "  </thead>\n",
       "  <tbody>\n",
       "    <tr>\n",
       "      <th>0</th>\n",
       "      <td>immediate</td>\n",
       "      <td>best1bin</td>\n",
       "      <td>0.100000</td>\n",
       "      <td>5</td>\n",
       "      <td>3.574452e+00</td>\n",
       "    </tr>\n",
       "    <tr>\n",
       "      <th>630</th>\n",
       "      <td>deferred</td>\n",
       "      <td>best2bin</td>\n",
       "      <td>0.100000</td>\n",
       "      <td>7</td>\n",
       "      <td>2.579928e+00</td>\n",
       "    </tr>\n",
       "    <tr>\n",
       "      <th>30</th>\n",
       "      <td>immediate</td>\n",
       "      <td>best1exp</td>\n",
       "      <td>0.100000</td>\n",
       "      <td>8</td>\n",
       "      <td>2.579928e+00</td>\n",
       "    </tr>\n",
       "    <tr>\n",
       "      <th>360</th>\n",
       "      <td>deferred</td>\n",
       "      <td>best1bin</td>\n",
       "      <td>0.100000</td>\n",
       "      <td>12</td>\n",
       "      <td>1.209607e-08</td>\n",
       "    </tr>\n",
       "    <tr>\n",
       "      <th>361</th>\n",
       "      <td>deferred</td>\n",
       "      <td>best1bin</td>\n",
       "      <td>0.131034</td>\n",
       "      <td>14</td>\n",
       "      <td>2.719194e-02</td>\n",
       "    </tr>\n",
       "  </tbody>\n",
       "</table>\n",
       "</div>"
      ],
      "text/plain": [
       "      updating  strategy  mutation nit           fun\n",
       "0    immediate  best1bin  0.100000   5  3.574452e+00\n",
       "630   deferred  best2bin  0.100000   7  2.579928e+00\n",
       "30   immediate  best1exp  0.100000   8  2.579928e+00\n",
       "360   deferred  best1bin  0.100000  12  1.209607e-08\n",
       "361   deferred  best1bin  0.131034  14  2.719194e-02"
      ]
     },
     "execution_count": 6,
     "metadata": {},
     "output_type": "execute_result"
    }
   ],
   "source": [
    "df.iloc[0:0]\n",
    "df = pd.DataFrame(columns=['updating', 'strategy', 'mutation', 'nit', 'fun'])\n",
    "\n",
    "for upd in updatings:\n",
    "    for strategy in strategies:\n",
    "        for mutation in mutations:\n",
    "                res = differential_evolution(ackley, bounds, updating=upd, strategy=strategy, mutation=mutation, seed=42)\n",
    "                df.loc[len(df)] = [upd, strategy, mutation, res.nit, res.fun]\n",
    "            \n",
    "df.sort_values(by='nit').head()"
   ]
  },
  {
   "cell_type": "code",
   "execution_count": 15,
   "metadata": {},
   "outputs": [
    {
     "data": {
      "text/html": [
       "<div>\n",
       "<style scoped>\n",
       "    .dataframe tbody tr th:only-of-type {\n",
       "        vertical-align: middle;\n",
       "    }\n",
       "\n",
       "    .dataframe tbody tr th {\n",
       "        vertical-align: top;\n",
       "    }\n",
       "\n",
       "    .dataframe thead th {\n",
       "        text-align: right;\n",
       "    }\n",
       "</style>\n",
       "<table border=\"1\" class=\"dataframe\">\n",
       "  <thead>\n",
       "    <tr style=\"text-align: right;\">\n",
       "      <th></th>\n",
       "      <th>updating</th>\n",
       "      <th>strategy</th>\n",
       "      <th>mutation</th>\n",
       "      <th>nit</th>\n",
       "      <th>fun</th>\n",
       "    </tr>\n",
       "  </thead>\n",
       "  <tbody>\n",
       "    <tr>\n",
       "      <th>360</th>\n",
       "      <td>deferred</td>\n",
       "      <td>best1bin</td>\n",
       "      <td>0.100000</td>\n",
       "      <td>12</td>\n",
       "      <td>1.209607e-08</td>\n",
       "    </tr>\n",
       "    <tr>\n",
       "      <th>1</th>\n",
       "      <td>immediate</td>\n",
       "      <td>best1bin</td>\n",
       "      <td>0.131034</td>\n",
       "      <td>25</td>\n",
       "      <td>4.440892e-16</td>\n",
       "    </tr>\n",
       "    <tr>\n",
       "      <th>270</th>\n",
       "      <td>immediate</td>\n",
       "      <td>best2bin</td>\n",
       "      <td>0.100000</td>\n",
       "      <td>26</td>\n",
       "      <td>4.440892e-16</td>\n",
       "    </tr>\n",
       "    <tr>\n",
       "      <th>2</th>\n",
       "      <td>immediate</td>\n",
       "      <td>best1bin</td>\n",
       "      <td>0.162069</td>\n",
       "      <td>27</td>\n",
       "      <td>4.440892e-16</td>\n",
       "    </tr>\n",
       "    <tr>\n",
       "      <th>3</th>\n",
       "      <td>immediate</td>\n",
       "      <td>best1bin</td>\n",
       "      <td>0.193103</td>\n",
       "      <td>29</td>\n",
       "      <td>4.440892e-16</td>\n",
       "    </tr>\n",
       "    <tr>\n",
       "      <th>...</th>\n",
       "      <td>...</td>\n",
       "      <td>...</td>\n",
       "      <td>...</td>\n",
       "      <td>...</td>\n",
       "      <td>...</td>\n",
       "    </tr>\n",
       "    <tr>\n",
       "      <th>499</th>\n",
       "      <td>deferred</td>\n",
       "      <td>currenttobest1exp</td>\n",
       "      <td>0.689655</td>\n",
       "      <td>1000</td>\n",
       "      <td>4.440892e-16</td>\n",
       "    </tr>\n",
       "    <tr>\n",
       "      <th>500</th>\n",
       "      <td>deferred</td>\n",
       "      <td>currenttobest1exp</td>\n",
       "      <td>0.720690</td>\n",
       "      <td>1000</td>\n",
       "      <td>4.440892e-16</td>\n",
       "    </tr>\n",
       "    <tr>\n",
       "      <th>501</th>\n",
       "      <td>deferred</td>\n",
       "      <td>currenttobest1exp</td>\n",
       "      <td>0.751724</td>\n",
       "      <td>1000</td>\n",
       "      <td>4.440892e-16</td>\n",
       "    </tr>\n",
       "    <tr>\n",
       "      <th>491</th>\n",
       "      <td>deferred</td>\n",
       "      <td>currenttobest1exp</td>\n",
       "      <td>0.441379</td>\n",
       "      <td>1000</td>\n",
       "      <td>4.440892e-16</td>\n",
       "    </tr>\n",
       "    <tr>\n",
       "      <th>480</th>\n",
       "      <td>deferred</td>\n",
       "      <td>currenttobest1exp</td>\n",
       "      <td>0.100000</td>\n",
       "      <td>1000</td>\n",
       "      <td>1.393108e-12</td>\n",
       "    </tr>\n",
       "  </tbody>\n",
       "</table>\n",
       "<p>705 rows × 5 columns</p>\n",
       "</div>"
      ],
      "text/plain": [
       "      updating           strategy  mutation   nit           fun\n",
       "360   deferred           best1bin  0.100000    12  1.209607e-08\n",
       "1    immediate           best1bin  0.131034    25  4.440892e-16\n",
       "270  immediate           best2bin  0.100000    26  4.440892e-16\n",
       "2    immediate           best1bin  0.162069    27  4.440892e-16\n",
       "3    immediate           best1bin  0.193103    29  4.440892e-16\n",
       "..         ...                ...       ...   ...           ...\n",
       "499   deferred  currenttobest1exp  0.689655  1000  4.440892e-16\n",
       "500   deferred  currenttobest1exp  0.720690  1000  4.440892e-16\n",
       "501   deferred  currenttobest1exp  0.751724  1000  4.440892e-16\n",
       "491   deferred  currenttobest1exp  0.441379  1000  4.440892e-16\n",
       "480   deferred  currenttobest1exp  0.100000  1000  1.393108e-12\n",
       "\n",
       "[705 rows x 5 columns]"
      ]
     },
     "execution_count": 15,
     "metadata": {},
     "output_type": "execute_result"
    }
   ],
   "source": [
    "df[df.fun<0.0000001].sort_values(by='nit')"
   ]
  },
  {
   "cell_type": "markdown",
   "metadata": {},
   "source": [
    "Как видно из получившегося датасета, один из лучших результатов (с точки зрения минимизации количества итераций) мы получаем при комбинации параметров:  \n",
    "- updating = 'deffered'\n",
    "- strategy = 'best1bin'\n",
    "- mutation = 0.1\n",
    "\n",
    "С этими параметрами эволюция нашла минимум за 12 итераций. Этот минимум = 1.209607e-08, этот результат менее точен, чем тот, который мы получали с параметрами по умолчанию. Однако, это тоже малое значение достаточно близкое к 0, и если условия задачи допускают нахождение минимума с подобной точностью, то наш результат может быть засчитан.\n",
    "\n",
    "Более \"честный\" минимум равный 4.440892e-16 эволюция нашла за 25 итераций при комбинации параметров:  \n",
    "- updating = 'immediate'\n",
    "- strategy = 'best1bin'\n",
    "- mutation = 0.131034\n"
   ]
  },
  {
   "cell_type": "code",
   "execution_count": 17,
   "metadata": {},
   "outputs": [
    {
     "name": "stdout",
     "output_type": "stream",
     "text": [
      "Wall time: 54 ms\n"
     ]
    },
    {
     "data": {
      "text/plain": [
       "     fun: 1.2096066814848427e-08\n",
       "     jac: array([0.84650082, 2.51447432])\n",
       " message: 'Optimization terminated successfully.'\n",
       "    nfev: 516\n",
       "     nit: 12\n",
       " success: True\n",
       "       x: array([-3.27223131e-09,  2.75351717e-09])"
      ]
     },
     "execution_count": 17,
     "metadata": {},
     "output_type": "execute_result"
    }
   ],
   "source": [
    "%%time\n",
    "differential_evolution(ackley, bounds, updating='deferred', strategy='best1bin', mutation=0.1, seed=42)"
   ]
  },
  {
   "cell_type": "code",
   "execution_count": 21,
   "metadata": {},
   "outputs": [
    {
     "name": "stdout",
     "output_type": "stream",
     "text": [
      "Wall time: 125 ms\n"
     ]
    },
    {
     "data": {
      "text/plain": [
       "     fun: 4.440892098500626e-16\n",
       " message: 'Optimization terminated successfully.'\n",
       "    nfev: 813\n",
       "     nit: 24\n",
       " success: True\n",
       "       x: array([0., 0.])"
      ]
     },
     "execution_count": 21,
     "metadata": {},
     "output_type": "execute_result"
    }
   ],
   "source": [
    "%%time\n",
    "differential_evolution(ackley, bounds, updating='immediate', strategy='best1bin', mutation=0.131034, seed=42)"
   ]
  },
  {
   "cell_type": "code",
   "execution_count": 20,
   "metadata": {},
   "outputs": [
    {
     "name": "stdout",
     "output_type": "stream",
     "text": [
      "Wall time: 401 ms\n"
     ]
    },
    {
     "data": {
      "text/plain": [
       "     fun: 4.440892098500626e-16\n",
       " message: 'Optimization terminated successfully.'\n",
       "    nfev: 2793\n",
       "     nit: 90\n",
       " success: True\n",
       "       x: array([0., 0.])"
      ]
     },
     "execution_count": 20,
     "metadata": {},
     "output_type": "execute_result"
    }
   ],
   "source": [
    "%%time\n",
    "differential_evolution(ackley, bounds, seed=42)"
   ]
  },
  {
   "cell_type": "markdown",
   "metadata": {},
   "source": [
    "Если сравнить время выполнения функции с подстановкой найденных параметров и функции с параметрами по умолчанию, увидим, что изменение параметров действительно помогает немного выиграть во времени"
   ]
  },
  {
   "cell_type": "code",
   "execution_count": null,
   "metadata": {},
   "outputs": [],
   "source": []
  }
 ],
 "metadata": {
  "colab": {
   "collapsed_sections": [],
   "name": "HW_6",
   "provenance": []
  },
  "kernelspec": {
   "display_name": "Python 3",
   "language": "python",
   "name": "python3"
  },
  "language_info": {
   "codemirror_mode": {
    "name": "ipython",
    "version": 3
   },
   "file_extension": ".py",
   "mimetype": "text/x-python",
   "name": "python",
   "nbconvert_exporter": "python",
   "pygments_lexer": "ipython3",
   "version": "3.7.7"
  }
 },
 "nbformat": 4,
 "nbformat_minor": 1
}
