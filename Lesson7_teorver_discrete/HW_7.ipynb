{
 "cells": [
  {
   "cell_type": "markdown",
   "metadata": {
    "id": "T7ZzWaMVe71E"
   },
   "source": [
    "# Домашнее задание \"Теория вероятности. Дискретные Случайные Величины\"."
   ]
  },
  {
   "cell_type": "markdown",
   "metadata": {
    "id": "lanA1DNve73x"
   },
   "source": [
    "## Уровень 0:"
   ]
  },
  {
   "cell_type": "markdown",
   "metadata": {
    "id": "trLO6c0pfXRA"
   },
   "source": [
    "- Задание 1:"
   ]
  },
  {
   "cell_type": "markdown",
   "metadata": {
    "id": "1Fj_TgHpfXTP"
   },
   "source": [
    "Монетку подбрасывают 15 раз, найдите вероятность выпадения простого числа орлов."
   ]
  },
  {
   "cell_type": "markdown",
   "metadata": {},
   "source": [
    "Благоприятствующими исходами для события \"выпадет простое число орлов меньшее 15\" будут исходы, когда орел выпадет 2, 3, 5, 7, 11 или 13 раз. Для каждого из этих вариантов мы можем посчитать вероятность по формуле Бернулли"
   ]
  },
  {
   "cell_type": "code",
   "execution_count": 7,
   "metadata": {},
   "outputs": [],
   "source": [
    "import math\n",
    "import numpy as np\n",
    "import matplotlib.pyplot as plt"
   ]
  },
  {
   "cell_type": "code",
   "execution_count": 2,
   "metadata": {},
   "outputs": [],
   "source": [
    "def bernoulli(p, n, k):\n",
    "    '''формула Бернулли для произвольнх значений вероятности p, количества опытов n и появления события k'''\n",
    "    Cnk = math.factorial(n) / (math.factorial(k)*math.factorial(n-k))\n",
    "    result = Cnk * (p**k) * ((1-p)**(n-k))\n",
    "    return result"
   ]
  },
  {
   "cell_type": "code",
   "execution_count": 5,
   "metadata": {},
   "outputs": [
    {
     "name": "stdout",
     "output_type": "stream",
     "text": [
      "Вероятность выпадения орла 2 раз(а) из 15 составляет 0.0032\n",
      "Вероятность выпадения орла 3 раз(а) из 15 составляет 0.0139\n",
      "Вероятность выпадения орла 5 раз(а) из 15 составляет 0.0916\n",
      "Вероятность выпадения орла 7 раз(а) из 15 составляет 0.1964\n",
      "Вероятность выпадения орла 11 раз(а) из 15 составляет 0.0417\n",
      "Вероятность выпадения орла 13 раз(а) из 15 составляет 0.0032\n",
      "Вероятность выпадения простого числа орлов сосавляет 0.35\n"
     ]
    }
   ],
   "source": [
    "# для честной монеты p=1/2, по условиям задачи n = 15, k одно из [2, 3, 5, 7, 11, 13]\n",
    "\n",
    "p_total = 0\n",
    "n = 15\n",
    "for k in [2, 3, 5, 7, 11, 13]:\n",
    "    p_k = bernoulli(p=0.5, n=n, k=k)\n",
    "    print(f'Вероятность выпадения орла {k} раз(а) из {n} составляет {round(p_k, 4)}')\n",
    "    p_total += p_k\n",
    "    \n",
    "print(f'Вероятность выпадения простого числа орлов сосавляет {round(p_total, 4)}')\n",
    "    "
   ]
  },
  {
   "cell_type": "markdown",
   "metadata": {
    "id": "uqHn2CtkfXVb"
   },
   "source": [
    "- Задание 2:"
   ]
  },
  {
   "cell_type": "markdown",
   "metadata": {
    "id": "dc5gqI8gfXXk"
   },
   "source": [
    "\n",
    "Создайте свою дискретную случайную величину с не менее, чем 10 значениями. Просемплируйте 1000 случайных значений, постройте гистограмму плотности распределения по выборке, посчитайте среднее, дисперсию и медиану."
   ]
  },
  {
   "cell_type": "code",
   "execution_count": 24,
   "metadata": {},
   "outputs": [
    {
     "data": {
      "text/plain": [
       "array([74, 47, 59, 22,  6, 40, 72, 49, 30,  8])"
      ]
     },
     "execution_count": 24,
     "metadata": {},
     "output_type": "execute_result"
    }
   ],
   "source": [
    "# Создадим дискретную случайную величину с не менее, чем 10 значениями\n",
    "random_value = np.random.randint(low=1, high=101, size=10)\n",
    "random_value"
   ]
  },
  {
   "cell_type": "code",
   "execution_count": 25,
   "metadata": {},
   "outputs": [],
   "source": [
    "# Просемплируем 1000 случайных значений\n",
    "# параметр р оставим по умолчанию None, пусть элементы random_value могут оказаться в сэмпле с одинаковой вероятностью\n",
    "sampling = np.random.choice(random_value, 1000)\n"
   ]
  },
  {
   "cell_type": "code",
   "execution_count": 28,
   "metadata": {},
   "outputs": [
    {
     "data": {
      "text/plain": [
       "(array([0.02911765, 0.        , 0.01294118, 0.0175    , 0.        ,\n",
       "        0.01426471, 0.02779412, 0.01264706, 0.        , 0.03279412]),\n",
       " array([ 6. , 12.8, 19.6, 26.4, 33.2, 40. , 46.8, 53.6, 60.4, 67.2, 74. ]),\n",
       " <BarContainer object of 10 artists>)"
      ]
     },
     "execution_count": 28,
     "metadata": {},
     "output_type": "execute_result"
    },
    {
     "data": {
      "image/png": "[encoded data removed]",
      "text/plain": [
       "<Figure size 432x288 with 1 Axes>"
      ]
     },
     "metadata": {
      "needs_background": "light"
     },
     "output_type": "display_data"
    }
   ],
   "source": [
    "# строим гистограмму\n",
    "plt.hist(sampling, bins=10, density=True)"
   ]
  },
  {
   "cell_type": "code",
   "execution_count": 29,
   "metadata": {},
   "outputs": [
    {
     "name": "stdout",
     "output_type": "stream",
     "text": [
      "Среднее: 41.211\n",
      "Дисперсия: 540.912479\n",
      "Медиана: 40.0\n"
     ]
    }
   ],
   "source": [
    "# посчитаем метрики\n",
    "print(f'Среднее: {np.mean(sampling)}')\n",
    "print(f'Дисперсия: {np.var(sampling)}')\n",
    "print(f'Медиана: {np.median(sampling)}')"
   ]
  },
  {
   "cell_type": "markdown",
   "metadata": {
    "id": "_6YnMFxzfS86"
   },
   "source": [
    "## Уровень 1:"
   ]
  },
  {
   "cell_type": "markdown",
   "metadata": {
    "id": "kCHPejMofn6b"
   },
   "source": [
    "- Задание 3:\n"
   ]
  },
  {
   "cell_type": "markdown",
   "metadata": {
    "id": "HfOQo_qkfmYC"
   },
   "source": [
    "Пусть брошены 3 уравновешенные монеты.\n",
    "\n",
    "Рассмотрим 3 события:\n",
    "\n",
    "A1 - монеты 1 и 2 упали одной и той же стороной;\n",
    "\n",
    "A2 - монеты 2 и 3 упали одной и той же стороной;\n",
    "\n",
    "A3 - монеты 1 и 3 упали одной и той же стороной.\n",
    "\n",
    "Покажите, почему эти 3 события (A1, A2, A3) являются попарно независимыми, но не являются независимыми в совокупности."
   ]
  },
  {
   "cell_type": "markdown",
   "metadata": {},
   "source": [
    "Рассмотрим события А1 и А2. Для остальных пар событий рассуждения будут аналогичными.  \n",
    "По определению А1 и А2 независимы, если вероятность их одновременного наступления будет равна произведению их отдельных вероятностей:  \n",
    "$P(A1A2) = P(A1)*P(A2)$\n",
    "\n",
    "Покажем, что так и есть. Для этого проанализируем возможные исходы подбрасывания 3х монет."
   ]
  },
  {
   "cell_type": "code",
   "execution_count": 30,
   "metadata": {},
   "outputs": [],
   "source": [
    "import pandas as pd"
   ]
  },
  {
   "cell_type": "code",
   "execution_count": 37,
   "metadata": {},
   "outputs": [
    {
     "data": {
      "text/html": [
       "<div>\n",
       "<style scoped>\n",
       "    .dataframe tbody tr th:only-of-type {\n",
       "        vertical-align: middle;\n",
       "    }\n",
       "\n",
       "    .dataframe tbody tr th {\n",
       "        vertical-align: top;\n",
       "    }\n",
       "\n",
       "    .dataframe thead th {\n",
       "        text-align: right;\n",
       "    }\n",
       "</style>\n",
       "<table border=\"1\" class=\"dataframe\">\n",
       "  <thead>\n",
       "    <tr style=\"text-align: right;\">\n",
       "      <th></th>\n",
       "      <th>M1</th>\n",
       "      <th>M2</th>\n",
       "      <th>M3</th>\n",
       "    </tr>\n",
       "  </thead>\n",
       "  <tbody>\n",
       "    <tr>\n",
       "      <th>0</th>\n",
       "      <td>0</td>\n",
       "      <td>0</td>\n",
       "      <td>0</td>\n",
       "    </tr>\n",
       "    <tr>\n",
       "      <th>1</th>\n",
       "      <td>0</td>\n",
       "      <td>0</td>\n",
       "      <td>1</td>\n",
       "    </tr>\n",
       "    <tr>\n",
       "      <th>2</th>\n",
       "      <td>0</td>\n",
       "      <td>1</td>\n",
       "      <td>0</td>\n",
       "    </tr>\n",
       "    <tr>\n",
       "      <th>3</th>\n",
       "      <td>0</td>\n",
       "      <td>1</td>\n",
       "      <td>1</td>\n",
       "    </tr>\n",
       "    <tr>\n",
       "      <th>4</th>\n",
       "      <td>1</td>\n",
       "      <td>0</td>\n",
       "      <td>0</td>\n",
       "    </tr>\n",
       "    <tr>\n",
       "      <th>5</th>\n",
       "      <td>1</td>\n",
       "      <td>0</td>\n",
       "      <td>1</td>\n",
       "    </tr>\n",
       "    <tr>\n",
       "      <th>6</th>\n",
       "      <td>1</td>\n",
       "      <td>1</td>\n",
       "      <td>0</td>\n",
       "    </tr>\n",
       "    <tr>\n",
       "      <th>7</th>\n",
       "      <td>1</td>\n",
       "      <td>1</td>\n",
       "      <td>1</td>\n",
       "    </tr>\n",
       "  </tbody>\n",
       "</table>\n",
       "</div>"
      ],
      "text/plain": [
       "   M1  M2  M3\n",
       "0   0   0   0\n",
       "1   0   0   1\n",
       "2   0   1   0\n",
       "3   0   1   1\n",
       "4   1   0   0\n",
       "5   1   0   1\n",
       "6   1   1   0\n",
       "7   1   1   1"
      ]
     },
     "execution_count": 37,
     "metadata": {},
     "output_type": "execute_result"
    }
   ],
   "source": [
    "# Пусть 0 - выпаление монеты орлом, 1 - решкой\n",
    "df = pd.DataFrame({'M1':[0,0,0,0,1,1,1,1],\n",
    "                  'M2':[0,0,1,1,0,0,1,1],\n",
    "                  'M3':[0,1,0,1,0,1,0,1]})\n",
    "df"
   ]
  },
  {
   "cell_type": "code",
   "execution_count": 38,
   "metadata": {},
   "outputs": [
    {
     "data": {
      "text/html": [
       "<div>\n",
       "<style scoped>\n",
       "    .dataframe tbody tr th:only-of-type {\n",
       "        vertical-align: middle;\n",
       "    }\n",
       "\n",
       "    .dataframe tbody tr th {\n",
       "        vertical-align: top;\n",
       "    }\n",
       "\n",
       "    .dataframe thead th {\n",
       "        text-align: right;\n",
       "    }\n",
       "</style>\n",
       "<table border=\"1\" class=\"dataframe\">\n",
       "  <thead>\n",
       "    <tr style=\"text-align: right;\">\n",
       "      <th></th>\n",
       "      <th>M1</th>\n",
       "      <th>M2</th>\n",
       "      <th>M3</th>\n",
       "      <th>A1</th>\n",
       "      <th>A2</th>\n",
       "      <th>A3</th>\n",
       "    </tr>\n",
       "  </thead>\n",
       "  <tbody>\n",
       "    <tr>\n",
       "      <th>0</th>\n",
       "      <td>0</td>\n",
       "      <td>0</td>\n",
       "      <td>0</td>\n",
       "      <td>True</td>\n",
       "      <td>True</td>\n",
       "      <td>True</td>\n",
       "    </tr>\n",
       "    <tr>\n",
       "      <th>1</th>\n",
       "      <td>0</td>\n",
       "      <td>0</td>\n",
       "      <td>1</td>\n",
       "      <td>True</td>\n",
       "      <td>False</td>\n",
       "      <td>False</td>\n",
       "    </tr>\n",
       "    <tr>\n",
       "      <th>2</th>\n",
       "      <td>0</td>\n",
       "      <td>1</td>\n",
       "      <td>0</td>\n",
       "      <td>False</td>\n",
       "      <td>False</td>\n",
       "      <td>True</td>\n",
       "    </tr>\n",
       "    <tr>\n",
       "      <th>3</th>\n",
       "      <td>0</td>\n",
       "      <td>1</td>\n",
       "      <td>1</td>\n",
       "      <td>False</td>\n",
       "      <td>True</td>\n",
       "      <td>False</td>\n",
       "    </tr>\n",
       "    <tr>\n",
       "      <th>4</th>\n",
       "      <td>1</td>\n",
       "      <td>0</td>\n",
       "      <td>0</td>\n",
       "      <td>False</td>\n",
       "      <td>True</td>\n",
       "      <td>False</td>\n",
       "    </tr>\n",
       "    <tr>\n",
       "      <th>5</th>\n",
       "      <td>1</td>\n",
       "      <td>0</td>\n",
       "      <td>1</td>\n",
       "      <td>False</td>\n",
       "      <td>False</td>\n",
       "      <td>True</td>\n",
       "    </tr>\n",
       "    <tr>\n",
       "      <th>6</th>\n",
       "      <td>1</td>\n",
       "      <td>1</td>\n",
       "      <td>0</td>\n",
       "      <td>True</td>\n",
       "      <td>False</td>\n",
       "      <td>False</td>\n",
       "    </tr>\n",
       "    <tr>\n",
       "      <th>7</th>\n",
       "      <td>1</td>\n",
       "      <td>1</td>\n",
       "      <td>1</td>\n",
       "      <td>True</td>\n",
       "      <td>True</td>\n",
       "      <td>True</td>\n",
       "    </tr>\n",
       "  </tbody>\n",
       "</table>\n",
       "</div>"
      ],
      "text/plain": [
       "   M1  M2  M3     A1     A2     A3\n",
       "0   0   0   0   True   True   True\n",
       "1   0   0   1   True  False  False\n",
       "2   0   1   0  False  False   True\n",
       "3   0   1   1  False   True  False\n",
       "4   1   0   0  False   True  False\n",
       "5   1   0   1  False  False   True\n",
       "6   1   1   0   True  False  False\n",
       "7   1   1   1   True   True   True"
      ]
     },
     "execution_count": 38,
     "metadata": {},
     "output_type": "execute_result"
    }
   ],
   "source": [
    "df.loc[df.M1==df.M2, 'A1'] = True # монеты 1 и 2 упали одной стороной -> исход, благоприятный для А1\n",
    "df.loc[df.M2==df.M3, 'A2'] = True # аналогично для А2\n",
    "df.loc[df.M1==df.M3, 'A3'] = True # аналогично для А3\n",
    "df.fillna(False, inplace=True)\n",
    "df"
   ]
  },
  {
   "cell_type": "markdown",
   "metadata": {},
   "source": [
    "Как видно из полученного датафрейма, вероятность собыитя Р(А1) = 4/8 = 1/2, так же Р(А2) = 1/2.\n",
    "Пересечение событий А1 и А2 означает, что монеты 1 и 2 упали одной стороной и одновременно монеты 2 и 3 упали одной стороной, т.е. все три монеты упали одной стороной одновременно. Таких исходов у нас 2 (все монеты выпали орлом либо все монеты выпали решкой) из 8, соотвественно Р(А1А2) = 2/8 = 1/4   \n",
    "Подставим значения вероятностей в нашу формулу $P(A1A2) = P(A1)*P(A2)$. Получим:  \n",
    "$1/4 = 1/2 * 1/2$  \n",
    "\n",
    "Это верное равенство. Аналогичное получим для $P(А2А1) = P(A2)*P(A1)$. Следовательно А1 и А2 попарно независимы. Это логично: даже если мы знаем, что монеты 1 и 2 выпали одной стороной, это не влияет на то, какой стороной кпадет монета 3, т.е. вероятность наступления А1 не несет для нас никакой информации, что А2 стало более или менее вероятным\n",
    "\n",
    "Аналогично доказывается, что попарно независимы А2 и А3, А1 и А3"
   ]
  },
  {
   "cell_type": "markdown",
   "metadata": {},
   "source": [
    "Чтобы доказать, что совокупность всех 3х событий не является независимой, воспользуемся аналогичной формулой. Рассмотрим одновременное наступление событий А1, А2 и А3 как пересечение (А1А2) для которого мы уже показали попарную независимость с (А3). Если события независимы, то будет выполняться следующее:  \n",
    "\n",
    "$P((A1A2)A3) = P(A1A2)*P(A3)$\n",
    "\n",
    "Т.к. мы уже показали, что $P(A1A2) = P(A1)*P(A2)$, будет справедливым следующее:\n",
    "\n",
    "$P((A1A2)A3) = P(A1)*P(A2)*P(A3)$\n",
    "\n",
    "Одновременное наступление всех 3х событий означает, что все монеты выпали либо орлом, либо решкой, т.е. вероятность  P((A1A2)A3) = 2/8 = 1/4\n",
    "\n",
    "Каждая из вероятностей P(Ai) = 4/8 = 1/2\n",
    "\n",
    "Подставим в формулу, получим, что:\n",
    "\n",
    "$1/4 = 1/2 * 1/2 * 1/2$\n",
    "\n",
    "Это неверно. Следовательно все 3 события в совокупности зависимы.   \n",
    "Одновременное выполнение событий А1 и А2 уже гарантирует, что все монеты выпадут одной стороной, т.е. событие А3 в любом случае будет выполнено.\n"
   ]
  },
  {
   "cell_type": "markdown",
   "metadata": {
    "id": "S29TzpYSfmaC"
   },
   "source": [
    "- Задание 4 (формула полной вероятности):\n"
   ]
  },
  {
   "cell_type": "markdown",
   "metadata": {
    "id": "tDprfzp-fmcP"
   },
   "source": [
    "В магазин привезли устройства с 3-х разных предприятий. \n",
    "\n",
    "Соотношение устройств следующее: 20% - продукция первого предприятия, 30% - продукция второго предприятия, 50% - продукция третьего предприятия; далее, 10% продукции первого предприятия высшего сорта, на втором предприятии - 5% и на третьем - 20% продукции высшего сорта. \n",
    "\n",
    "Найти вероятность того, что случайно купленная новая продукция окажется высшего сорта."
   ]
  },
  {
   "cell_type": "markdown",
   "metadata": {},
   "source": [
    "Интересующее нас событие А такое, что новая продукция окажется высшего сорта.  \n",
    "Гипотезы В1, В2 и В3 в том, что продукция постцпила с 1го, 2го или 3го предприятия соответственно. Нам известны:  \n",
    "$P(B1) = 0.2$  \n",
    "$P(B2) = 0.3$  \n",
    "$P(B3) = 0.5$  \n",
    "\n",
    "Так же нам известны условные вероятности P(A|Bi) - продукция окажется высшего сорта при условии, что она поступила с i-го предприятия. Эти вероятности составляют:  \n",
    "$P(A|B1) = 0.1$  \n",
    "$P(A|B2) = 0.05$  \n",
    "$P(A|B3) = 0.2$  \n",
    "\n",
    "Таким образом, у нас есть все необходимые данные, чтобы посчитать Р(А), используя формулу полной вероятности:   \n",
    "$P(A) = P(A|B1)P(B1) + P(A|B2)P(B2) + P(A|B3)P(B3)$\n"
   ]
  },
  {
   "cell_type": "code",
   "execution_count": 39,
   "metadata": {},
   "outputs": [
    {
     "data": {
      "text/plain": [
       "0.135"
      ]
     },
     "execution_count": 39,
     "metadata": {},
     "output_type": "execute_result"
    }
   ],
   "source": [
    "p_a = 0.1*0.2 + 0.05*0.3 + 0.2*0.5\n",
    "p_a"
   ]
  },
  {
   "cell_type": "markdown",
   "metadata": {},
   "source": [
    "Вероятность того, что случайно купленная новая продукция окажется высшего сорта составляет **0.135**"
   ]
  },
  {
   "cell_type": "code",
   "execution_count": null,
   "metadata": {},
   "outputs": [],
   "source": []
  }
 ],
 "metadata": {
  "colab": {
   "name": "HW_7",
   "provenance": []
  },
  "kernelspec": {
   "display_name": "Python 3",
   "language": "python",
   "name": "python3"
  },
  "language_info": {
   "codemirror_mode": {
    "name": "ipython",
    "version": 3
   },
   "file_extension": ".py",
   "mimetype": "text/x-python",
   "name": "python",
   "nbconvert_exporter": "python",
   "pygments_lexer": "ipython3",
   "version": "3.7.7"
  }
 },
 "nbformat": 4,
 "nbformat_minor": 1
}
