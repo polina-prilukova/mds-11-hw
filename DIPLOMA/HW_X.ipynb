{
 "cells": [
  {
   "cell_type": "markdown",
   "metadata": {
    "id": "g1hQiFW7isGe"
   },
   "source": [
    "# Итоговая работа."
   ]
  },
  {
   "cell_type": "code",
   "execution_count": 2,
   "metadata": {
    "id": "NyZ7GotDi1Mp"
   },
   "outputs": [],
   "source": [
    "import matplotlib.pyplot as plt\n",
    "import numpy as np\n",
    "import pandas as pd\n",
    "\n",
    "from scipy.optimize import minimize\n",
    "%matplotlib inline"
   ]
  },
  {
   "cell_type": "markdown",
   "metadata": {
    "id": "VZFf_auXisJd"
   },
   "source": [
    "## Задание 1"
   ]
  },
  {
   "cell_type": "markdown",
   "metadata": {
    "id": "ABMPXsuhisMO"
   },
   "source": [
    "Дана матрица рейтингов фильмов (строки - пользователи (10 человек), столбцы - фильмы (15 фильмов))"
   ]
  },
  {
   "cell_type": "code",
   "execution_count": 3,
   "metadata": {
    "id": "D4_Vshevi-4P"
   },
   "outputs": [],
   "source": [
    "ratings = np.array([[ 4,  4,  9,  4,  1,  6, 10,  7,  9,  6,  9,  2,  8,  6,  6],\n",
    "                     [ 9,  2,  5, 10,  7,  8, 10,  5,  6,  2,  1,  6,  8,  9,  7],\n",
    "                     [ 1,  6,  8,  8,  4,  9,  3,  8, 10,  5,  2,  6,  8,  1,  6],\n",
    "                     [ 6,  1,  9,  7,  7,  9,  2,  3,  5,  1,  6,  6,  3,  2,  7],\n",
    "                     [ 3,  7,  3,  5,  7,  9,  9,  6,  2,  9,  1,  2,  8, 10,  6],\n",
    "                     [ 8,  3,  7,  3,  8,  6,  1,  8,  8,  6,  1,  9,  4, 10,  1],\n",
    "                     [ 9,  8,  4,  8,  8, 10,  6,  1,  1,  2,  9,  5,  2,  7,  2],\n",
    "                     [ 4,  1,  6,  4,  3, 10,  4,  4,  2,  8,  7,  9,  3,  8,  3],\n",
    "                     [ 2,  7,  7,  6, 10,  6,  8,  9,  8,  6, 10,  1,  7, 10,  4],\n",
    "                     [ 5, 10,  8,  8,  9,  7,  2,  9,  9, 10,  8,  8,  8,  6, 10]])"
   ]
  },
  {
   "cell_type": "markdown",
   "metadata": {
    "id": "FuYpBPsTjBVa"
   },
   "source": [
    "**a)** Необходимо найти наиболее похожего пользователя по косинусной метрике для каждого из (ответ: 10 пар вида (x, y), где y - наиболее похожий пользователь на пользователя x).\n",
    "\n",
    "**b)** Предположим, вы захотели сжать признаковые описания пользователя с 15 фильмов, до, скажем, 5-ти признаков, как вы это сделаете?"
   ]
  },
  {
   "cell_type": "code",
   "execution_count": 4,
   "metadata": {},
   "outputs": [],
   "source": [
    "def cosine(x, y):\n",
    "    \"\"\"\n",
    "    Подсчет косинуса угла между векторами a, b по их координатам\n",
    "    \"\"\"\n",
    "    len_x = np.linalg.norm(x)\n",
    "    len_y = np.linalg.norm(y)\n",
    "    return np.dot(x, y)/(len_x * len_y)"
   ]
  },
  {
   "cell_type": "markdown",
   "metadata": {},
   "source": [
    "Для наглядности построим таблицу, в которой отразим попарные косинусные расстояния пользователей. Чем ближе к 1 значение косинуса между векторами, тем ближе друг к другу сами вектора. "
   ]
  },
  {
   "cell_type": "code",
   "execution_count": 5,
   "metadata": {},
   "outputs": [
    {
     "data": {
      "text/html": [
       "<div>\n",
       "<style scoped>\n",
       "    .dataframe tbody tr th:only-of-type {\n",
       "        vertical-align: middle;\n",
       "    }\n",
       "\n",
       "    .dataframe tbody tr th {\n",
       "        vertical-align: top;\n",
       "    }\n",
       "\n",
       "    .dataframe thead th {\n",
       "        text-align: right;\n",
       "    }\n",
       "</style>\n",
       "<table border=\"1\" class=\"dataframe\">\n",
       "  <thead>\n",
       "    <tr style=\"text-align: right;\">\n",
       "      <th></th>\n",
       "      <th>1</th>\n",
       "      <th>2</th>\n",
       "      <th>3</th>\n",
       "      <th>4</th>\n",
       "      <th>5</th>\n",
       "      <th>6</th>\n",
       "      <th>7</th>\n",
       "      <th>8</th>\n",
       "      <th>9</th>\n",
       "      <th>10</th>\n",
       "    </tr>\n",
       "  </thead>\n",
       "  <tbody>\n",
       "    <tr>\n",
       "      <th>1</th>\n",
       "      <td>1</td>\n",
       "      <td>0.826029</td>\n",
       "      <td>0.849215</td>\n",
       "      <td>0.783401</td>\n",
       "      <td>0.819176</td>\n",
       "      <td>0.741185</td>\n",
       "      <td>0.727358</td>\n",
       "      <td>0.809675</td>\n",
       "      <td>0.91066</td>\n",
       "      <td>0.860108</td>\n",
       "    </tr>\n",
       "    <tr>\n",
       "      <th>2</th>\n",
       "      <td>0.826029</td>\n",
       "      <td>1</td>\n",
       "      <td>0.812343</td>\n",
       "      <td>0.846353</td>\n",
       "      <td>0.871381</td>\n",
       "      <td>0.827131</td>\n",
       "      <td>0.826297</td>\n",
       "      <td>0.80026</td>\n",
       "      <td>0.825263</td>\n",
       "      <td>0.819681</td>\n",
       "    </tr>\n",
       "    <tr>\n",
       "      <th>3</th>\n",
       "      <td>0.849215</td>\n",
       "      <td>0.812343</td>\n",
       "      <td>1</td>\n",
       "      <td>0.846694</td>\n",
       "      <td>0.783943</td>\n",
       "      <td>0.79098</td>\n",
       "      <td>0.676162</td>\n",
       "      <td>0.762896</td>\n",
       "      <td>0.821121</td>\n",
       "      <td>0.918731</td>\n",
       "    </tr>\n",
       "    <tr>\n",
       "      <th>4</th>\n",
       "      <td>0.783401</td>\n",
       "      <td>0.846353</td>\n",
       "      <td>0.846694</td>\n",
       "      <td>1</td>\n",
       "      <td>0.691534</td>\n",
       "      <td>0.786658</td>\n",
       "      <td>0.832742</td>\n",
       "      <td>0.829347</td>\n",
       "      <td>0.777067</td>\n",
       "      <td>0.858869</td>\n",
       "    </tr>\n",
       "    <tr>\n",
       "      <th>5</th>\n",
       "      <td>0.819176</td>\n",
       "      <td>0.871381</td>\n",
       "      <td>0.783943</td>\n",
       "      <td>0.691534</td>\n",
       "      <td>1</td>\n",
       "      <td>0.776443</td>\n",
       "      <td>0.782005</td>\n",
       "      <td>0.812369</td>\n",
       "      <td>0.879485</td>\n",
       "      <td>0.845748</td>\n",
       "    </tr>\n",
       "    <tr>\n",
       "      <th>6</th>\n",
       "      <td>0.741185</td>\n",
       "      <td>0.827131</td>\n",
       "      <td>0.79098</td>\n",
       "      <td>0.786658</td>\n",
       "      <td>0.776443</td>\n",
       "      <td>1</td>\n",
       "      <td>0.740118</td>\n",
       "      <td>0.844517</td>\n",
       "      <td>0.806229</td>\n",
       "      <td>0.855149</td>\n",
       "    </tr>\n",
       "    <tr>\n",
       "      <th>7</th>\n",
       "      <td>0.727358</td>\n",
       "      <td>0.826297</td>\n",
       "      <td>0.676162</td>\n",
       "      <td>0.832742</td>\n",
       "      <td>0.782005</td>\n",
       "      <td>0.740118</td>\n",
       "      <td>1</td>\n",
       "      <td>0.826692</td>\n",
       "      <td>0.8113</td>\n",
       "      <td>0.791547</td>\n",
       "    </tr>\n",
       "    <tr>\n",
       "      <th>8</th>\n",
       "      <td>0.809675</td>\n",
       "      <td>0.80026</td>\n",
       "      <td>0.762896</td>\n",
       "      <td>0.829347</td>\n",
       "      <td>0.812369</td>\n",
       "      <td>0.844517</td>\n",
       "      <td>0.826692</td>\n",
       "      <td>1</td>\n",
       "      <td>0.798128</td>\n",
       "      <td>0.836822</td>\n",
       "    </tr>\n",
       "    <tr>\n",
       "      <th>9</th>\n",
       "      <td>0.91066</td>\n",
       "      <td>0.825263</td>\n",
       "      <td>0.821121</td>\n",
       "      <td>0.777067</td>\n",
       "      <td>0.879485</td>\n",
       "      <td>0.806229</td>\n",
       "      <td>0.8113</td>\n",
       "      <td>0.798128</td>\n",
       "      <td>1</td>\n",
       "      <td>0.900938</td>\n",
       "    </tr>\n",
       "    <tr>\n",
       "      <th>10</th>\n",
       "      <td>0.860108</td>\n",
       "      <td>0.819681</td>\n",
       "      <td>0.918731</td>\n",
       "      <td>0.858869</td>\n",
       "      <td>0.845748</td>\n",
       "      <td>0.855149</td>\n",
       "      <td>0.791547</td>\n",
       "      <td>0.836822</td>\n",
       "      <td>0.900938</td>\n",
       "      <td>1</td>\n",
       "    </tr>\n",
       "  </tbody>\n",
       "</table>\n",
       "</div>"
      ],
      "text/plain": [
       "          1         2         3         4         5         6         7   \\\n",
       "1          1  0.826029  0.849215  0.783401  0.819176  0.741185  0.727358   \n",
       "2   0.826029         1  0.812343  0.846353  0.871381  0.827131  0.826297   \n",
       "3   0.849215  0.812343         1  0.846694  0.783943   0.79098  0.676162   \n",
       "4   0.783401  0.846353  0.846694         1  0.691534  0.786658  0.832742   \n",
       "5   0.819176  0.871381  0.783943  0.691534         1  0.776443  0.782005   \n",
       "6   0.741185  0.827131   0.79098  0.786658  0.776443         1  0.740118   \n",
       "7   0.727358  0.826297  0.676162  0.832742  0.782005  0.740118         1   \n",
       "8   0.809675   0.80026  0.762896  0.829347  0.812369  0.844517  0.826692   \n",
       "9    0.91066  0.825263  0.821121  0.777067  0.879485  0.806229    0.8113   \n",
       "10  0.860108  0.819681  0.918731  0.858869  0.845748  0.855149  0.791547   \n",
       "\n",
       "          8         9         10  \n",
       "1   0.809675   0.91066  0.860108  \n",
       "2    0.80026  0.825263  0.819681  \n",
       "3   0.762896  0.821121  0.918731  \n",
       "4   0.829347  0.777067  0.858869  \n",
       "5   0.812369  0.879485  0.845748  \n",
       "6   0.844517  0.806229  0.855149  \n",
       "7   0.826692    0.8113  0.791547  \n",
       "8          1  0.798128  0.836822  \n",
       "9   0.798128         1  0.900938  \n",
       "10  0.836822  0.900938         1  "
      ]
     },
     "execution_count": 5,
     "metadata": {},
     "output_type": "execute_result"
    }
   ],
   "source": [
    "similarities = pd.DataFrame(columns = [i for i in range(1, ratings.shape[0]+1)])\n",
    "\n",
    "for i, user in enumerate(ratings, 1):\n",
    "    for j in range(1, ratings.shape[0]+1):\n",
    "        if j == i:\n",
    "            similarities.loc[i, j] = 1\n",
    "        else:\n",
    "            similarities.loc[i, j] = cosine(user, ratings[j-1])\n",
    "\n",
    "similarities    \n",
    "\n"
   ]
  },
  {
   "cell_type": "code",
   "execution_count": 6,
   "metadata": {},
   "outputs": [],
   "source": [
    "from sklearn.metrics import pairwise_distances"
   ]
  },
  {
   "cell_type": "markdown",
   "metadata": {},
   "source": [
    "Если импортируем встроенную функцию из sklearn получим аналогичный результат, только в ячейках таблицы вместо значений cosine(x, y) будут значения (1 - cosine(x, y)). Соответственно, если смотреть по этой таблице, то ближайшим соседом вектора х будет вектор с минимальным ненулевым значением"
   ]
  },
  {
   "cell_type": "code",
   "execution_count": 7,
   "metadata": {},
   "outputs": [
    {
     "data": {
      "text/html": [
       "<div>\n",
       "<style scoped>\n",
       "    .dataframe tbody tr th:only-of-type {\n",
       "        vertical-align: middle;\n",
       "    }\n",
       "\n",
       "    .dataframe tbody tr th {\n",
       "        vertical-align: top;\n",
       "    }\n",
       "\n",
       "    .dataframe thead th {\n",
       "        text-align: right;\n",
       "    }\n",
       "</style>\n",
       "<table border=\"1\" class=\"dataframe\">\n",
       "  <thead>\n",
       "    <tr style=\"text-align: right;\">\n",
       "      <th></th>\n",
       "      <th>0</th>\n",
       "      <th>1</th>\n",
       "      <th>2</th>\n",
       "      <th>3</th>\n",
       "      <th>4</th>\n",
       "      <th>5</th>\n",
       "      <th>6</th>\n",
       "      <th>7</th>\n",
       "      <th>8</th>\n",
       "      <th>9</th>\n",
       "    </tr>\n",
       "  </thead>\n",
       "  <tbody>\n",
       "    <tr>\n",
       "      <th>0</th>\n",
       "      <td>0.000000</td>\n",
       "      <td>0.173971</td>\n",
       "      <td>0.150785</td>\n",
       "      <td>0.216599</td>\n",
       "      <td>0.180824</td>\n",
       "      <td>0.258815</td>\n",
       "      <td>0.272642</td>\n",
       "      <td>0.190325</td>\n",
       "      <td>0.089340</td>\n",
       "      <td>0.139892</td>\n",
       "    </tr>\n",
       "    <tr>\n",
       "      <th>1</th>\n",
       "      <td>0.173971</td>\n",
       "      <td>0.000000</td>\n",
       "      <td>0.187657</td>\n",
       "      <td>0.153647</td>\n",
       "      <td>0.128619</td>\n",
       "      <td>0.172869</td>\n",
       "      <td>0.173703</td>\n",
       "      <td>0.199740</td>\n",
       "      <td>0.174737</td>\n",
       "      <td>0.180319</td>\n",
       "    </tr>\n",
       "    <tr>\n",
       "      <th>2</th>\n",
       "      <td>0.150785</td>\n",
       "      <td>0.187657</td>\n",
       "      <td>0.000000</td>\n",
       "      <td>0.153306</td>\n",
       "      <td>0.216057</td>\n",
       "      <td>0.209020</td>\n",
       "      <td>0.323838</td>\n",
       "      <td>0.237104</td>\n",
       "      <td>0.178879</td>\n",
       "      <td>0.081269</td>\n",
       "    </tr>\n",
       "    <tr>\n",
       "      <th>3</th>\n",
       "      <td>0.216599</td>\n",
       "      <td>0.153647</td>\n",
       "      <td>0.153306</td>\n",
       "      <td>0.000000</td>\n",
       "      <td>0.308466</td>\n",
       "      <td>0.213342</td>\n",
       "      <td>0.167258</td>\n",
       "      <td>0.170653</td>\n",
       "      <td>0.222933</td>\n",
       "      <td>0.141131</td>\n",
       "    </tr>\n",
       "    <tr>\n",
       "      <th>4</th>\n",
       "      <td>0.180824</td>\n",
       "      <td>0.128619</td>\n",
       "      <td>0.216057</td>\n",
       "      <td>0.308466</td>\n",
       "      <td>0.000000</td>\n",
       "      <td>0.223557</td>\n",
       "      <td>0.217995</td>\n",
       "      <td>0.187631</td>\n",
       "      <td>0.120515</td>\n",
       "      <td>0.154252</td>\n",
       "    </tr>\n",
       "    <tr>\n",
       "      <th>5</th>\n",
       "      <td>0.258815</td>\n",
       "      <td>0.172869</td>\n",
       "      <td>0.209020</td>\n",
       "      <td>0.213342</td>\n",
       "      <td>0.223557</td>\n",
       "      <td>0.000000</td>\n",
       "      <td>0.259882</td>\n",
       "      <td>0.155483</td>\n",
       "      <td>0.193771</td>\n",
       "      <td>0.144851</td>\n",
       "    </tr>\n",
       "    <tr>\n",
       "      <th>6</th>\n",
       "      <td>0.272642</td>\n",
       "      <td>0.173703</td>\n",
       "      <td>0.323838</td>\n",
       "      <td>0.167258</td>\n",
       "      <td>0.217995</td>\n",
       "      <td>0.259882</td>\n",
       "      <td>0.000000</td>\n",
       "      <td>0.173308</td>\n",
       "      <td>0.188700</td>\n",
       "      <td>0.208453</td>\n",
       "    </tr>\n",
       "    <tr>\n",
       "      <th>7</th>\n",
       "      <td>0.190325</td>\n",
       "      <td>0.199740</td>\n",
       "      <td>0.237104</td>\n",
       "      <td>0.170653</td>\n",
       "      <td>0.187631</td>\n",
       "      <td>0.155483</td>\n",
       "      <td>0.173308</td>\n",
       "      <td>0.000000</td>\n",
       "      <td>0.201872</td>\n",
       "      <td>0.163178</td>\n",
       "    </tr>\n",
       "    <tr>\n",
       "      <th>8</th>\n",
       "      <td>0.089340</td>\n",
       "      <td>0.174737</td>\n",
       "      <td>0.178879</td>\n",
       "      <td>0.222933</td>\n",
       "      <td>0.120515</td>\n",
       "      <td>0.193771</td>\n",
       "      <td>0.188700</td>\n",
       "      <td>0.201872</td>\n",
       "      <td>0.000000</td>\n",
       "      <td>0.099062</td>\n",
       "    </tr>\n",
       "    <tr>\n",
       "      <th>9</th>\n",
       "      <td>0.139892</td>\n",
       "      <td>0.180319</td>\n",
       "      <td>0.081269</td>\n",
       "      <td>0.141131</td>\n",
       "      <td>0.154252</td>\n",
       "      <td>0.144851</td>\n",
       "      <td>0.208453</td>\n",
       "      <td>0.163178</td>\n",
       "      <td>0.099062</td>\n",
       "      <td>0.000000</td>\n",
       "    </tr>\n",
       "  </tbody>\n",
       "</table>\n",
       "</div>"
      ],
      "text/plain": [
       "          0         1         2         3         4         5         6  \\\n",
       "0  0.000000  0.173971  0.150785  0.216599  0.180824  0.258815  0.272642   \n",
       "1  0.173971  0.000000  0.187657  0.153647  0.128619  0.172869  0.173703   \n",
       "2  0.150785  0.187657  0.000000  0.153306  0.216057  0.209020  0.323838   \n",
       "3  0.216599  0.153647  0.153306  0.000000  0.308466  0.213342  0.167258   \n",
       "4  0.180824  0.128619  0.216057  0.308466  0.000000  0.223557  0.217995   \n",
       "5  0.258815  0.172869  0.209020  0.213342  0.223557  0.000000  0.259882   \n",
       "6  0.272642  0.173703  0.323838  0.167258  0.217995  0.259882  0.000000   \n",
       "7  0.190325  0.199740  0.237104  0.170653  0.187631  0.155483  0.173308   \n",
       "8  0.089340  0.174737  0.178879  0.222933  0.120515  0.193771  0.188700   \n",
       "9  0.139892  0.180319  0.081269  0.141131  0.154252  0.144851  0.208453   \n",
       "\n",
       "          7         8         9  \n",
       "0  0.190325  0.089340  0.139892  \n",
       "1  0.199740  0.174737  0.180319  \n",
       "2  0.237104  0.178879  0.081269  \n",
       "3  0.170653  0.222933  0.141131  \n",
       "4  0.187631  0.120515  0.154252  \n",
       "5  0.155483  0.193771  0.144851  \n",
       "6  0.173308  0.188700  0.208453  \n",
       "7  0.000000  0.201872  0.163178  \n",
       "8  0.201872  0.000000  0.099062  \n",
       "9  0.163178  0.099062  0.000000  "
      ]
     },
     "execution_count": 7,
     "metadata": {},
     "output_type": "execute_result"
    }
   ],
   "source": [
    "pd.DataFrame(pairwise_distances(ratings, metric='cosine'))"
   ]
  },
  {
   "cell_type": "code",
   "execution_count": 8,
   "metadata": {},
   "outputs": [
    {
     "data": {
      "text/plain": [
       "[(1, 9),\n",
       " (2, 5),\n",
       " (3, 10),\n",
       " (4, 10),\n",
       " (5, 9),\n",
       " (6, 10),\n",
       " (7, 4),\n",
       " (8, 6),\n",
       " (9, 1),\n",
       " (10, 3)]"
      ]
     },
     "execution_count": 8,
     "metadata": {},
     "output_type": "execute_result"
    }
   ],
   "source": [
    "# сформируем ответ, который требуется от нас в задаче в виде пар пользователей, наиболее близких друг к другу\n",
    "# можно сверить полученный результат с таблицей similarities, чтобы убедиться, что именно для этих пользователей\n",
    "# косинусное расстояние максимально (но не равно 1)\n",
    "\n",
    "result_list = []\n",
    "for col in similarities.columns:\n",
    "    max_value = max(similarities.loc[:, col][similarities[col]!=1])\n",
    "    result_list.append((col, similarities[col][similarities[col]==max_value].index.tolist()[0]))\n",
    "\n",
    "result_list"
   ]
  },
  {
   "cell_type": "code",
   "execution_count": 74,
   "metadata": {},
   "outputs": [
    {
     "data": {
      "text/html": [
       "<style  type=\"text/css\" >\n",
       "#T_09e7f3ba_5fca_11eb_b031_8c82b9952ba2row0_col8,#T_09e7f3ba_5fca_11eb_b031_8c82b9952ba2row2_col9,#T_09e7f3ba_5fca_11eb_b031_8c82b9952ba2row3_col6,#T_09e7f3ba_5fca_11eb_b031_8c82b9952ba2row4_col1,#T_09e7f3ba_5fca_11eb_b031_8c82b9952ba2row5_col7,#T_09e7f3ba_5fca_11eb_b031_8c82b9952ba2row8_col0,#T_09e7f3ba_5fca_11eb_b031_8c82b9952ba2row8_col4,#T_09e7f3ba_5fca_11eb_b031_8c82b9952ba2row9_col2,#T_09e7f3ba_5fca_11eb_b031_8c82b9952ba2row9_col3,#T_09e7f3ba_5fca_11eb_b031_8c82b9952ba2row9_col5{\n",
       "            background-color:  yellow;\n",
       "        }</style><table id=\"T_09e7f3ba_5fca_11eb_b031_8c82b9952ba2\" ><thead>    <tr>        <th class=\"blank level0\" ></th>        <th class=\"col_heading level0 col0\" >1</th>        <th class=\"col_heading level0 col1\" >2</th>        <th class=\"col_heading level0 col2\" >3</th>        <th class=\"col_heading level0 col3\" >4</th>        <th class=\"col_heading level0 col4\" >5</th>        <th class=\"col_heading level0 col5\" >6</th>        <th class=\"col_heading level0 col6\" >7</th>        <th class=\"col_heading level0 col7\" >8</th>        <th class=\"col_heading level0 col8\" >9</th>        <th class=\"col_heading level0 col9\" >10</th>    </tr></thead><tbody>\n",
       "                <tr>\n",
       "                        <th id=\"T_09e7f3ba_5fca_11eb_b031_8c82b9952ba2level0_row0\" class=\"row_heading level0 row0\" >1</th>\n",
       "                        <td id=\"T_09e7f3ba_5fca_11eb_b031_8c82b9952ba2row0_col0\" class=\"data row0 col0\" >1</td>\n",
       "                        <td id=\"T_09e7f3ba_5fca_11eb_b031_8c82b9952ba2row0_col1\" class=\"data row0 col1\" >0.826029</td>\n",
       "                        <td id=\"T_09e7f3ba_5fca_11eb_b031_8c82b9952ba2row0_col2\" class=\"data row0 col2\" >0.849215</td>\n",
       "                        <td id=\"T_09e7f3ba_5fca_11eb_b031_8c82b9952ba2row0_col3\" class=\"data row0 col3\" >0.783401</td>\n",
       "                        <td id=\"T_09e7f3ba_5fca_11eb_b031_8c82b9952ba2row0_col4\" class=\"data row0 col4\" >0.819176</td>\n",
       "                        <td id=\"T_09e7f3ba_5fca_11eb_b031_8c82b9952ba2row0_col5\" class=\"data row0 col5\" >0.741185</td>\n",
       "                        <td id=\"T_09e7f3ba_5fca_11eb_b031_8c82b9952ba2row0_col6\" class=\"data row0 col6\" >0.727358</td>\n",
       "                        <td id=\"T_09e7f3ba_5fca_11eb_b031_8c82b9952ba2row0_col7\" class=\"data row0 col7\" >0.809675</td>\n",
       "                        <td id=\"T_09e7f3ba_5fca_11eb_b031_8c82b9952ba2row0_col8\" class=\"data row0 col8\" >0.910660</td>\n",
       "                        <td id=\"T_09e7f3ba_5fca_11eb_b031_8c82b9952ba2row0_col9\" class=\"data row0 col9\" >0.860108</td>\n",
       "            </tr>\n",
       "            <tr>\n",
       "                        <th id=\"T_09e7f3ba_5fca_11eb_b031_8c82b9952ba2level0_row1\" class=\"row_heading level0 row1\" >2</th>\n",
       "                        <td id=\"T_09e7f3ba_5fca_11eb_b031_8c82b9952ba2row1_col0\" class=\"data row1 col0\" >0.826029</td>\n",
       "                        <td id=\"T_09e7f3ba_5fca_11eb_b031_8c82b9952ba2row1_col1\" class=\"data row1 col1\" >1</td>\n",
       "                        <td id=\"T_09e7f3ba_5fca_11eb_b031_8c82b9952ba2row1_col2\" class=\"data row1 col2\" >0.812343</td>\n",
       "                        <td id=\"T_09e7f3ba_5fca_11eb_b031_8c82b9952ba2row1_col3\" class=\"data row1 col3\" >0.846353</td>\n",
       "                        <td id=\"T_09e7f3ba_5fca_11eb_b031_8c82b9952ba2row1_col4\" class=\"data row1 col4\" >0.871381</td>\n",
       "                        <td id=\"T_09e7f3ba_5fca_11eb_b031_8c82b9952ba2row1_col5\" class=\"data row1 col5\" >0.827131</td>\n",
       "                        <td id=\"T_09e7f3ba_5fca_11eb_b031_8c82b9952ba2row1_col6\" class=\"data row1 col6\" >0.826297</td>\n",
       "                        <td id=\"T_09e7f3ba_5fca_11eb_b031_8c82b9952ba2row1_col7\" class=\"data row1 col7\" >0.800260</td>\n",
       "                        <td id=\"T_09e7f3ba_5fca_11eb_b031_8c82b9952ba2row1_col8\" class=\"data row1 col8\" >0.825263</td>\n",
       "                        <td id=\"T_09e7f3ba_5fca_11eb_b031_8c82b9952ba2row1_col9\" class=\"data row1 col9\" >0.819681</td>\n",
       "            </tr>\n",
       "            <tr>\n",
       "                        <th id=\"T_09e7f3ba_5fca_11eb_b031_8c82b9952ba2level0_row2\" class=\"row_heading level0 row2\" >3</th>\n",
       "                        <td id=\"T_09e7f3ba_5fca_11eb_b031_8c82b9952ba2row2_col0\" class=\"data row2 col0\" >0.849215</td>\n",
       "                        <td id=\"T_09e7f3ba_5fca_11eb_b031_8c82b9952ba2row2_col1\" class=\"data row2 col1\" >0.812343</td>\n",
       "                        <td id=\"T_09e7f3ba_5fca_11eb_b031_8c82b9952ba2row2_col2\" class=\"data row2 col2\" >1</td>\n",
       "                        <td id=\"T_09e7f3ba_5fca_11eb_b031_8c82b9952ba2row2_col3\" class=\"data row2 col3\" >0.846694</td>\n",
       "                        <td id=\"T_09e7f3ba_5fca_11eb_b031_8c82b9952ba2row2_col4\" class=\"data row2 col4\" >0.783943</td>\n",
       "                        <td id=\"T_09e7f3ba_5fca_11eb_b031_8c82b9952ba2row2_col5\" class=\"data row2 col5\" >0.790980</td>\n",
       "                        <td id=\"T_09e7f3ba_5fca_11eb_b031_8c82b9952ba2row2_col6\" class=\"data row2 col6\" >0.676162</td>\n",
       "                        <td id=\"T_09e7f3ba_5fca_11eb_b031_8c82b9952ba2row2_col7\" class=\"data row2 col7\" >0.762896</td>\n",
       "                        <td id=\"T_09e7f3ba_5fca_11eb_b031_8c82b9952ba2row2_col8\" class=\"data row2 col8\" >0.821121</td>\n",
       "                        <td id=\"T_09e7f3ba_5fca_11eb_b031_8c82b9952ba2row2_col9\" class=\"data row2 col9\" >0.918731</td>\n",
       "            </tr>\n",
       "            <tr>\n",
       "                        <th id=\"T_09e7f3ba_5fca_11eb_b031_8c82b9952ba2level0_row3\" class=\"row_heading level0 row3\" >4</th>\n",
       "                        <td id=\"T_09e7f3ba_5fca_11eb_b031_8c82b9952ba2row3_col0\" class=\"data row3 col0\" >0.783401</td>\n",
       "                        <td id=\"T_09e7f3ba_5fca_11eb_b031_8c82b9952ba2row3_col1\" class=\"data row3 col1\" >0.846353</td>\n",
       "                        <td id=\"T_09e7f3ba_5fca_11eb_b031_8c82b9952ba2row3_col2\" class=\"data row3 col2\" >0.846694</td>\n",
       "                        <td id=\"T_09e7f3ba_5fca_11eb_b031_8c82b9952ba2row3_col3\" class=\"data row3 col3\" >1</td>\n",
       "                        <td id=\"T_09e7f3ba_5fca_11eb_b031_8c82b9952ba2row3_col4\" class=\"data row3 col4\" >0.691534</td>\n",
       "                        <td id=\"T_09e7f3ba_5fca_11eb_b031_8c82b9952ba2row3_col5\" class=\"data row3 col5\" >0.786658</td>\n",
       "                        <td id=\"T_09e7f3ba_5fca_11eb_b031_8c82b9952ba2row3_col6\" class=\"data row3 col6\" >0.832742</td>\n",
       "                        <td id=\"T_09e7f3ba_5fca_11eb_b031_8c82b9952ba2row3_col7\" class=\"data row3 col7\" >0.829347</td>\n",
       "                        <td id=\"T_09e7f3ba_5fca_11eb_b031_8c82b9952ba2row3_col8\" class=\"data row3 col8\" >0.777067</td>\n",
       "                        <td id=\"T_09e7f3ba_5fca_11eb_b031_8c82b9952ba2row3_col9\" class=\"data row3 col9\" >0.858869</td>\n",
       "            </tr>\n",
       "            <tr>\n",
       "                        <th id=\"T_09e7f3ba_5fca_11eb_b031_8c82b9952ba2level0_row4\" class=\"row_heading level0 row4\" >5</th>\n",
       "                        <td id=\"T_09e7f3ba_5fca_11eb_b031_8c82b9952ba2row4_col0\" class=\"data row4 col0\" >0.819176</td>\n",
       "                        <td id=\"T_09e7f3ba_5fca_11eb_b031_8c82b9952ba2row4_col1\" class=\"data row4 col1\" >0.871381</td>\n",
       "                        <td id=\"T_09e7f3ba_5fca_11eb_b031_8c82b9952ba2row4_col2\" class=\"data row4 col2\" >0.783943</td>\n",
       "                        <td id=\"T_09e7f3ba_5fca_11eb_b031_8c82b9952ba2row4_col3\" class=\"data row4 col3\" >0.691534</td>\n",
       "                        <td id=\"T_09e7f3ba_5fca_11eb_b031_8c82b9952ba2row4_col4\" class=\"data row4 col4\" >1</td>\n",
       "                        <td id=\"T_09e7f3ba_5fca_11eb_b031_8c82b9952ba2row4_col5\" class=\"data row4 col5\" >0.776443</td>\n",
       "                        <td id=\"T_09e7f3ba_5fca_11eb_b031_8c82b9952ba2row4_col6\" class=\"data row4 col6\" >0.782005</td>\n",
       "                        <td id=\"T_09e7f3ba_5fca_11eb_b031_8c82b9952ba2row4_col7\" class=\"data row4 col7\" >0.812369</td>\n",
       "                        <td id=\"T_09e7f3ba_5fca_11eb_b031_8c82b9952ba2row4_col8\" class=\"data row4 col8\" >0.879485</td>\n",
       "                        <td id=\"T_09e7f3ba_5fca_11eb_b031_8c82b9952ba2row4_col9\" class=\"data row4 col9\" >0.845748</td>\n",
       "            </tr>\n",
       "            <tr>\n",
       "                        <th id=\"T_09e7f3ba_5fca_11eb_b031_8c82b9952ba2level0_row5\" class=\"row_heading level0 row5\" >6</th>\n",
       "                        <td id=\"T_09e7f3ba_5fca_11eb_b031_8c82b9952ba2row5_col0\" class=\"data row5 col0\" >0.741185</td>\n",
       "                        <td id=\"T_09e7f3ba_5fca_11eb_b031_8c82b9952ba2row5_col1\" class=\"data row5 col1\" >0.827131</td>\n",
       "                        <td id=\"T_09e7f3ba_5fca_11eb_b031_8c82b9952ba2row5_col2\" class=\"data row5 col2\" >0.790980</td>\n",
       "                        <td id=\"T_09e7f3ba_5fca_11eb_b031_8c82b9952ba2row5_col3\" class=\"data row5 col3\" >0.786658</td>\n",
       "                        <td id=\"T_09e7f3ba_5fca_11eb_b031_8c82b9952ba2row5_col4\" class=\"data row5 col4\" >0.776443</td>\n",
       "                        <td id=\"T_09e7f3ba_5fca_11eb_b031_8c82b9952ba2row5_col5\" class=\"data row5 col5\" >1</td>\n",
       "                        <td id=\"T_09e7f3ba_5fca_11eb_b031_8c82b9952ba2row5_col6\" class=\"data row5 col6\" >0.740118</td>\n",
       "                        <td id=\"T_09e7f3ba_5fca_11eb_b031_8c82b9952ba2row5_col7\" class=\"data row5 col7\" >0.844517</td>\n",
       "                        <td id=\"T_09e7f3ba_5fca_11eb_b031_8c82b9952ba2row5_col8\" class=\"data row5 col8\" >0.806229</td>\n",
       "                        <td id=\"T_09e7f3ba_5fca_11eb_b031_8c82b9952ba2row5_col9\" class=\"data row5 col9\" >0.855149</td>\n",
       "            </tr>\n",
       "            <tr>\n",
       "                        <th id=\"T_09e7f3ba_5fca_11eb_b031_8c82b9952ba2level0_row6\" class=\"row_heading level0 row6\" >7</th>\n",
       "                        <td id=\"T_09e7f3ba_5fca_11eb_b031_8c82b9952ba2row6_col0\" class=\"data row6 col0\" >0.727358</td>\n",
       "                        <td id=\"T_09e7f3ba_5fca_11eb_b031_8c82b9952ba2row6_col1\" class=\"data row6 col1\" >0.826297</td>\n",
       "                        <td id=\"T_09e7f3ba_5fca_11eb_b031_8c82b9952ba2row6_col2\" class=\"data row6 col2\" >0.676162</td>\n",
       "                        <td id=\"T_09e7f3ba_5fca_11eb_b031_8c82b9952ba2row6_col3\" class=\"data row6 col3\" >0.832742</td>\n",
       "                        <td id=\"T_09e7f3ba_5fca_11eb_b031_8c82b9952ba2row6_col4\" class=\"data row6 col4\" >0.782005</td>\n",
       "                        <td id=\"T_09e7f3ba_5fca_11eb_b031_8c82b9952ba2row6_col5\" class=\"data row6 col5\" >0.740118</td>\n",
       "                        <td id=\"T_09e7f3ba_5fca_11eb_b031_8c82b9952ba2row6_col6\" class=\"data row6 col6\" >1</td>\n",
       "                        <td id=\"T_09e7f3ba_5fca_11eb_b031_8c82b9952ba2row6_col7\" class=\"data row6 col7\" >0.826692</td>\n",
       "                        <td id=\"T_09e7f3ba_5fca_11eb_b031_8c82b9952ba2row6_col8\" class=\"data row6 col8\" >0.811300</td>\n",
       "                        <td id=\"T_09e7f3ba_5fca_11eb_b031_8c82b9952ba2row6_col9\" class=\"data row6 col9\" >0.791547</td>\n",
       "            </tr>\n",
       "            <tr>\n",
       "                        <th id=\"T_09e7f3ba_5fca_11eb_b031_8c82b9952ba2level0_row7\" class=\"row_heading level0 row7\" >8</th>\n",
       "                        <td id=\"T_09e7f3ba_5fca_11eb_b031_8c82b9952ba2row7_col0\" class=\"data row7 col0\" >0.809675</td>\n",
       "                        <td id=\"T_09e7f3ba_5fca_11eb_b031_8c82b9952ba2row7_col1\" class=\"data row7 col1\" >0.800260</td>\n",
       "                        <td id=\"T_09e7f3ba_5fca_11eb_b031_8c82b9952ba2row7_col2\" class=\"data row7 col2\" >0.762896</td>\n",
       "                        <td id=\"T_09e7f3ba_5fca_11eb_b031_8c82b9952ba2row7_col3\" class=\"data row7 col3\" >0.829347</td>\n",
       "                        <td id=\"T_09e7f3ba_5fca_11eb_b031_8c82b9952ba2row7_col4\" class=\"data row7 col4\" >0.812369</td>\n",
       "                        <td id=\"T_09e7f3ba_5fca_11eb_b031_8c82b9952ba2row7_col5\" class=\"data row7 col5\" >0.844517</td>\n",
       "                        <td id=\"T_09e7f3ba_5fca_11eb_b031_8c82b9952ba2row7_col6\" class=\"data row7 col6\" >0.826692</td>\n",
       "                        <td id=\"T_09e7f3ba_5fca_11eb_b031_8c82b9952ba2row7_col7\" class=\"data row7 col7\" >1</td>\n",
       "                        <td id=\"T_09e7f3ba_5fca_11eb_b031_8c82b9952ba2row7_col8\" class=\"data row7 col8\" >0.798128</td>\n",
       "                        <td id=\"T_09e7f3ba_5fca_11eb_b031_8c82b9952ba2row7_col9\" class=\"data row7 col9\" >0.836822</td>\n",
       "            </tr>\n",
       "            <tr>\n",
       "                        <th id=\"T_09e7f3ba_5fca_11eb_b031_8c82b9952ba2level0_row8\" class=\"row_heading level0 row8\" >9</th>\n",
       "                        <td id=\"T_09e7f3ba_5fca_11eb_b031_8c82b9952ba2row8_col0\" class=\"data row8 col0\" >0.910660</td>\n",
       "                        <td id=\"T_09e7f3ba_5fca_11eb_b031_8c82b9952ba2row8_col1\" class=\"data row8 col1\" >0.825263</td>\n",
       "                        <td id=\"T_09e7f3ba_5fca_11eb_b031_8c82b9952ba2row8_col2\" class=\"data row8 col2\" >0.821121</td>\n",
       "                        <td id=\"T_09e7f3ba_5fca_11eb_b031_8c82b9952ba2row8_col3\" class=\"data row8 col3\" >0.777067</td>\n",
       "                        <td id=\"T_09e7f3ba_5fca_11eb_b031_8c82b9952ba2row8_col4\" class=\"data row8 col4\" >0.879485</td>\n",
       "                        <td id=\"T_09e7f3ba_5fca_11eb_b031_8c82b9952ba2row8_col5\" class=\"data row8 col5\" >0.806229</td>\n",
       "                        <td id=\"T_09e7f3ba_5fca_11eb_b031_8c82b9952ba2row8_col6\" class=\"data row8 col6\" >0.811300</td>\n",
       "                        <td id=\"T_09e7f3ba_5fca_11eb_b031_8c82b9952ba2row8_col7\" class=\"data row8 col7\" >0.798128</td>\n",
       "                        <td id=\"T_09e7f3ba_5fca_11eb_b031_8c82b9952ba2row8_col8\" class=\"data row8 col8\" >1</td>\n",
       "                        <td id=\"T_09e7f3ba_5fca_11eb_b031_8c82b9952ba2row8_col9\" class=\"data row8 col9\" >0.900938</td>\n",
       "            </tr>\n",
       "            <tr>\n",
       "                        <th id=\"T_09e7f3ba_5fca_11eb_b031_8c82b9952ba2level0_row9\" class=\"row_heading level0 row9\" >10</th>\n",
       "                        <td id=\"T_09e7f3ba_5fca_11eb_b031_8c82b9952ba2row9_col0\" class=\"data row9 col0\" >0.860108</td>\n",
       "                        <td id=\"T_09e7f3ba_5fca_11eb_b031_8c82b9952ba2row9_col1\" class=\"data row9 col1\" >0.819681</td>\n",
       "                        <td id=\"T_09e7f3ba_5fca_11eb_b031_8c82b9952ba2row9_col2\" class=\"data row9 col2\" >0.918731</td>\n",
       "                        <td id=\"T_09e7f3ba_5fca_11eb_b031_8c82b9952ba2row9_col3\" class=\"data row9 col3\" >0.858869</td>\n",
       "                        <td id=\"T_09e7f3ba_5fca_11eb_b031_8c82b9952ba2row9_col4\" class=\"data row9 col4\" >0.845748</td>\n",
       "                        <td id=\"T_09e7f3ba_5fca_11eb_b031_8c82b9952ba2row9_col5\" class=\"data row9 col5\" >0.855149</td>\n",
       "                        <td id=\"T_09e7f3ba_5fca_11eb_b031_8c82b9952ba2row9_col6\" class=\"data row9 col6\" >0.791547</td>\n",
       "                        <td id=\"T_09e7f3ba_5fca_11eb_b031_8c82b9952ba2row9_col7\" class=\"data row9 col7\" >0.836822</td>\n",
       "                        <td id=\"T_09e7f3ba_5fca_11eb_b031_8c82b9952ba2row9_col8\" class=\"data row9 col8\" >0.900938</td>\n",
       "                        <td id=\"T_09e7f3ba_5fca_11eb_b031_8c82b9952ba2row9_col9\" class=\"data row9 col9\" >1</td>\n",
       "            </tr>\n",
       "    </tbody></table>"
      ],
      "text/plain": [
       "<pandas.io.formats.style.Styler at 0x22593a63508>"
      ]
     },
     "execution_count": 74,
     "metadata": {},
     "output_type": "execute_result"
    }
   ],
   "source": [
    "def highlight_max(s):\n",
    "    '''\n",
    "    Подсветить максимальное значение желтым\n",
    "    '''\n",
    "    is_max = (s == s[s<1].max())\n",
    "    return ['background-color: yellow' if v else '' for v in is_max]\n",
    "\n",
    "similarities.style.apply(highlight_max)"
   ]
  },
  {
   "cell_type": "markdown",
   "metadata": {},
   "source": [
    "Чтобы сжать признаковые описания фильма с 15 признаков до 5, можно воспользоваться методом главных компонент (PCA)"
   ]
  },
  {
   "cell_type": "code",
   "execution_count": 9,
   "metadata": {},
   "outputs": [],
   "source": [
    "from sklearn.decomposition import PCA\n",
    "from sklearn.metrics import mean_squared_error"
   ]
  },
  {
   "cell_type": "code",
   "execution_count": 10,
   "metadata": {},
   "outputs": [
    {
     "name": "stdout",
     "output_type": "stream",
     "text": [
      "mse: 1.2455442696728187\n",
      "explained variance: 83.44\n"
     ]
    }
   ],
   "source": [
    "pca=PCA(5, random_state=146)\n",
    "pca.fit(ratings)\n",
    "X_proj = pca.transform(ratings)\n",
    "X_pred = pca.inverse_transform(X_proj)\n",
    "print(f'mse: {mean_squared_error(X_pred, ratings)}')\n",
    "print(f'explained variance: {round(np.sum(pca.explained_variance_ratio_)*100, 2)}')"
   ]
  },
  {
   "cell_type": "markdown",
   "metadata": {},
   "source": [
    "5-ю признаков из 15 объяснены 83.44% исходной дисперсии. Чтобы решить, достаточно ли такой точности, следует исходить из особенностей задания. Но в целом по общим соображениям это неплохой результат."
   ]
  },
  {
   "cell_type": "code",
   "execution_count": 11,
   "metadata": {},
   "outputs": [
    {
     "data": {
      "text/plain": [
       "array([[-5.30986101,  1.92919845, -4.93300027,  2.70188013,  5.50497886],\n",
       "       [ 2.87763403,  2.71659559,  1.40592782,  7.26325751, -4.50322291],\n",
       "       [-4.94010408, -6.68861167, -0.94550184,  3.61556661, -0.68969272],\n",
       "       [ 5.14939908, -6.28027284, -4.65978558,  1.09024004, -1.01471112],\n",
       "       [-1.37488691,  7.54357985,  4.00834369,  2.1284001 , -0.16324949],\n",
       "       [ 2.65341956, -3.77075601,  8.58430748, -1.46628319,  1.67401769],\n",
       "       [ 8.61573944,  3.78603335, -4.02721027, -4.37582577, -3.13880277],\n",
       "       [ 5.39658258, -1.0170466 ,  1.01456742, -1.89512837,  6.54883538],\n",
       "       [-5.7843488 ,  5.29857107, -1.48083611, -3.71295542,  0.21312695],\n",
       "       [-7.2835739 , -3.51729118,  1.03318766, -5.34915166, -4.43127987]])"
      ]
     },
     "execution_count": 11,
     "metadata": {},
     "output_type": "execute_result"
    }
   ],
   "source": [
    "# вектора, сжатые до 5 признаков\n",
    "X_proj"
   ]
  },
  {
   "cell_type": "markdown",
   "metadata": {},
   "source": [
    "Можно воспользоваться другим алгоритмом для уменьшения размерности - TruncatedSVD. Однако в этом случае сжатие до 5 признаков объясняет только 76.35% исходной дисперсии, что заметно меньше, чем в результате, показанном PCA "
   ]
  },
  {
   "cell_type": "code",
   "execution_count": 12,
   "metadata": {},
   "outputs": [],
   "source": [
    "from sklearn.decomposition import TruncatedSVD"
   ]
  },
  {
   "cell_type": "code",
   "execution_count": 13,
   "metadata": {},
   "outputs": [
    {
     "name": "stdout",
     "output_type": "stream",
     "text": [
      "mse: 1.782006084929767\n",
      "explained variance: 76.35\n"
     ]
    }
   ],
   "source": [
    "svd = TruncatedSVD(n_components=5, random_state=146)\n",
    "svd.fit(ratings)\n",
    "X_proj_svd = svd.transform(ratings)\n",
    "X_pred_svd = svd.inverse_transform(X_proj_svd)\n",
    "print(f'mse: {mean_squared_error(X_pred_svd, ratings)}')\n",
    "print(f'explained variance: {round(np.sum(svd.explained_variance_ratio_)*100, 2)}')"
   ]
  },
  {
   "cell_type": "code",
   "execution_count": 14,
   "metadata": {},
   "outputs": [
    {
     "data": {
      "text/plain": [
       "array([[23.41982063, -5.36092136,  3.83196779, -4.06950174,  1.10267269],\n",
       "       [24.76774917,  4.52188701,  1.35815965,  1.58128545,  8.59912002],\n",
       "       [22.27728589, -6.96492049, -4.84461485, -0.47661647,  3.37152266],\n",
       "       [19.4257757 ,  2.64575227, -6.86014009, -4.76604765,  1.96075707],\n",
       "       [22.8146354 ,  0.51464093,  7.70180188,  4.42379773,  1.29124163],\n",
       "       [21.76961656,  1.94294987, -4.56934779,  8.32306487, -2.21887359],\n",
       "       [21.23427453,  9.78047778,  1.16340271, -4.86074521, -2.60815471],\n",
       "       [19.97476815,  4.00048677, -1.67456316,  1.1512346 , -3.5637169 ],\n",
       "       [26.39306998, -3.03090482,  5.86422753, -1.67503491, -3.71500141],\n",
       "       [29.94016844, -4.82012297, -3.48912415,  0.05527083, -3.62526487]])"
      ]
     },
     "execution_count": 14,
     "metadata": {},
     "output_type": "execute_result"
    }
   ],
   "source": [
    "X_proj_svd"
   ]
  },
  {
   "cell_type": "markdown",
   "metadata": {
    "id": "QRJEo5ydjFjG"
   },
   "source": [
    "## Задание 2"
   ]
  },
  {
   "cell_type": "markdown",
   "metadata": {
    "id": "39rGnTIojFlV"
   },
   "source": [
    "\n",
    "Вычислите производную $tg^2(sin(x) + cos(2x+3))$ в точке $x_0=1$ (на python и на бумаге)."
   ]
  },
  {
   "cell_type": "code",
   "execution_count": 15,
   "metadata": {},
   "outputs": [],
   "source": [
    "from sympy import *"
   ]
  },
  {
   "cell_type": "code",
   "execution_count": 16,
   "metadata": {},
   "outputs": [
    {
     "name": "stdout",
     "output_type": "stream",
     "text": [
      "tan(sin(x) + cos(2*x + 3))**2\n",
      "2*(-2*sin(2*x + 3) + cos(x))*(tan(sin(x) + cos(2*x + 3))**2 + 1)*tan(sin(x) + cos(2*x + 3))\n"
     ]
    }
   ],
   "source": [
    "x, y = symbols('x y') \n",
    "expression = (tan(sin(x) + cos(2*x+3)))**2\n",
    "d1 = diff(expression, x)\n",
    "print(expression)\n",
    "print(d1)\n"
   ]
  },
  {
   "cell_type": "code",
   "execution_count": 17,
   "metadata": {},
   "outputs": [],
   "source": [
    "from scipy.misc import derivative"
   ]
  },
  {
   "cell_type": "code",
   "execution_count": 18,
   "metadata": {},
   "outputs": [
    {
     "data": {
      "text/plain": [
       "55.3859176464222"
      ]
     },
     "execution_count": 18,
     "metadata": {},
     "output_type": "execute_result"
    }
   ],
   "source": [
    "def f(x):\n",
    "    return (np.tan(np.sin(x) + np.cos(2*x+3)))**2\n",
    "derivative(f, 1.0, dx=1e-6)"
   ]
  },
  {
   "cell_type": "markdown",
   "metadata": {},
   "source": [
    "Решение вручную:"
   ]
  },
  {
   "cell_type": "markdown",
   "metadata": {},
   "source": [
    "<img src=\"task2.jpg\">"
   ]
  },
  {
   "cell_type": "markdown",
   "metadata": {},
   "source": [
    "Результат получен аналогичный"
   ]
  },
  {
   "cell_type": "markdown",
   "metadata": {
    "id": "T1y3_xiwjFpC"
   },
   "source": [
    "## Задание 3"
   ]
  },
  {
   "cell_type": "markdown",
   "metadata": {
    "id": "1EyIA1IQjU7w"
   },
   "source": [
    "Дана функция с неизвестными параметрами a и b, вам также известны значения функции fx в точках x. Найдите оптимальные параметры a, b, минимизирующие абсолютную ошибку **error**."
   ]
  },
  {
   "cell_type": "code",
   "execution_count": 19,
   "metadata": {
    "id": "eoBdc8Pwjhmk"
   },
   "outputs": [],
   "source": [
    "def f(x, a, b):\n",
    "    return np.e**a * np.sin(b*x) + x"
   ]
  },
  {
   "cell_type": "code",
   "execution_count": 20,
   "metadata": {
    "id": "nftvBKK2jho9"
   },
   "outputs": [],
   "source": [
    "x = np.array([0.        , 0.26315789, 0.52631579, 0.78947368, 1.05263158,\n",
    "              1.31578947, 1.57894737, 1.84210526, 2.10526316, 2.36842105,\n",
    "              2.63157895, 2.89473684, 3.15789474, 3.42105263, 3.68421053,\n",
    "              3.94736842, 4.21052632, 4.47368421, 4.73684211, 5.        ])"
   ]
  },
  {
   "cell_type": "code",
   "execution_count": 21,
   "metadata": {
    "id": "Dk9sBWrKjhrH"
   },
   "outputs": [],
   "source": [
    "fx = np.array([  0.        , -12.01819092, -18.90968634, -17.68786571,\n",
    "                -8.7529108 ,   4.27524517,  16.06801336,  21.81250213,\n",
    "                19.22059845,   9.48411207,  -3.22273056, -13.48576488,\n",
    "               -16.91096359, -11.95866834,  -0.58630088,  12.56873816,\n",
    "                22.12489421,  24.20292139,  18.04522521,   6.33211092])"
   ]
  },
  {
   "cell_type": "code",
   "execution_count": 22,
   "metadata": {
    "id": "X_4afDeijht2"
   },
   "outputs": [
    {
     "data": {
      "image/png": "[encoded data removed]",
      "text/plain": [
       "<Figure size 720x504 with 1 Axes>"
      ]
     },
     "metadata": {
      "needs_background": "light"
     },
     "output_type": "display_data"
    }
   ],
   "source": [
    "plt.figure(figsize=(10, 7))\n",
    "plt.plot(x, fx)\n",
    "plt.grid()\n",
    "plt.show()"
   ]
  },
  {
   "cell_type": "code",
   "execution_count": 23,
   "metadata": {
    "id": "oXoGpFu0i-6g"
   },
   "outputs": [],
   "source": [
    "def error(params):\n",
    "    return np.sum(np.abs(fx - f(x, params[0], params[1])))"
   ]
  },
  {
   "cell_type": "code",
   "execution_count": 24,
   "metadata": {},
   "outputs": [],
   "source": [
    "from scipy.optimize import minimize\n",
    "from scipy.optimize import differential_evolution"
   ]
  },
  {
   "cell_type": "code",
   "execution_count": 25,
   "metadata": {},
   "outputs": [
    {
     "data": {
      "text/plain": [
       "     fun: 1.5115933038600815e-06\n",
       " message: 'Optimization terminated successfully.'\n",
       "    nfev: 2073\n",
       "     nit: 66\n",
       " success: True\n",
       "       x: array([ 3. , -2.5])"
      ]
     },
     "execution_count": 25,
     "metadata": {},
     "output_type": "execute_result"
    }
   ],
   "source": [
    "bounds = [(-10, 10), (-10, 10)]\n",
    "res = differential_evolution(error, bounds, seed=146)\n",
    "res"
   ]
  },
  {
   "cell_type": "code",
   "execution_count": 26,
   "metadata": {},
   "outputs": [],
   "source": [
    "a = 3\n",
    "b = -2.5"
   ]
  },
  {
   "cell_type": "code",
   "execution_count": 27,
   "metadata": {},
   "outputs": [
    {
     "data": {
      "image/png": "[encoded data removed]",
      "text/plain": [
       "<Figure size 720x504 with 1 Axes>"
      ]
     },
     "metadata": {
      "needs_background": "light"
     },
     "output_type": "display_data"
    }
   ],
   "source": [
    "x_new = np.linspace(0, 5, 200)\n",
    "plt.figure(figsize=(10, 7))\n",
    "plt.plot(x, fx,label='data')\n",
    "plt.plot(x_new, f(x_new, a, b), label='optimized func')\n",
    "plt.plot(x, fx, 'o', color='r')\n",
    "plt.legend()\n",
    "plt.grid()\n",
    "plt.show()"
   ]
  },
  {
   "cell_type": "markdown",
   "metadata": {},
   "source": [
    "При параметрах a, b = [ 3. , -2.5] ошибка будет минимальной. Графики полученной функции и исходных данных фактически накладываются друг на друга"
   ]
  },
  {
   "cell_type": "code",
   "execution_count": 35,
   "metadata": {},
   "outputs": [
    {
     "data": {
      "text/plain": [
       "     fun: 0.0767456611156554\n",
       "   maxcv: 0.0\n",
       " message: 'Optimization terminated successfully.'\n",
       "    nfev: 135\n",
       "  status: 1\n",
       " success: True\n",
       "       x: array([ 3.00018796, -2.50008926])"
      ]
     },
     "execution_count": 35,
     "metadata": {},
     "output_type": "execute_result"
    }
   ],
   "source": [
    "res2 = minimize(error, np.array([0, 0]), method='COBYLA')\n",
    "res2"
   ]
  },
  {
   "cell_type": "code",
   "execution_count": 36,
   "metadata": {},
   "outputs": [
    {
     "data": {
      "image/png": "[encoded data removed]",
      "text/plain": [
       "<Figure size 720x504 with 1 Axes>"
      ]
     },
     "metadata": {
      "needs_background": "light"
     },
     "output_type": "display_data"
    }
   ],
   "source": [
    "a = 3.00018796\n",
    "b = -2.50008926\n",
    "x_new = np.linspace(0, 5, 200)\n",
    "plt.figure(figsize=(10, 7))\n",
    "plt.plot(x, fx,label='data')\n",
    "plt.plot(x_new, f(x_new, a, b), label='optimized func')\n",
    "plt.plot(x, fx, 'o', color='r')\n",
    "plt.legend()\n",
    "plt.grid()\n",
    "plt.show()"
   ]
  },
  {
   "cell_type": "markdown",
   "metadata": {},
   "source": [
    "Похожий результат получим с помощью функции minimize из scipy.optimize"
   ]
  },
  {
   "cell_type": "markdown",
   "metadata": {
    "id": "4AXJ_r5UjrY5"
   },
   "source": [
    "## Задание 4"
   ]
  },
  {
   "cell_type": "markdown",
   "metadata": {
    "id": "zRnYGwhXjtQB"
   },
   "source": [
    "Создайте собственную дискретную случайную величину с 20 значениями. Сгенерируйте 1000 выборок размера 50. Посчитайте среднее для каждой выборки. Постройте гистограмму распределения средних."
   ]
  },
  {
   "cell_type": "code",
   "execution_count": 37,
   "metadata": {},
   "outputs": [
    {
     "data": {
      "text/plain": [
       "array([961, 337, 820,  71, 932, 640, 505, 862,  47, 414, 182, 312, 306,\n",
       "       924, 171, 282, 969, 836,  92, 839])"
      ]
     },
     "execution_count": 37,
     "metadata": {},
     "output_type": "execute_result"
    }
   ],
   "source": [
    "# Создадим дискретную случайную величину с 20 значениями\n",
    "random_value = np.random.randint(low=1, high=1001, size=20)\n",
    "random_value"
   ]
  },
  {
   "cell_type": "code",
   "execution_count": 57,
   "metadata": {},
   "outputs": [],
   "source": [
    "# Сделаем сэмплы исходной СВ 1000 раз\n",
    "# параметр р оставим по умолчанию None, пусть элементы random_value могут оказаться в сэмпле с одинаковой вероятностью\n",
    "\n",
    "mean_list = []\n",
    "for i in range(1000):\n",
    "    sampling = np.random.choice(random_value, 50)\n",
    "    mean_list.append(np.mean(sampling))\n"
   ]
  },
  {
   "cell_type": "code",
   "execution_count": 58,
   "metadata": {},
   "outputs": [
    {
     "data": {
      "image/png": "[encoded data removed]",
      "text/plain": [
       "<Figure size 720x504 with 1 Axes>"
      ]
     },
     "metadata": {
      "needs_background": "light"
     },
     "output_type": "display_data"
    }
   ],
   "source": [
    "plt.figure(figsize = (10, 7))\n",
    "plt.hist(mean_list, bins=20, label='means distribution (1000 samples)')\n",
    "plt.grid()\n",
    "plt.legend()\n",
    "plt.show()"
   ]
  },
  {
   "cell_type": "markdown",
   "metadata": {},
   "source": [
    "Получили распределение, внешне похожее на нормальное распределение.\n",
    "Если мы возьмем большее количество выборок, то распределение их средних будет еще ближе к нормальному. Ниже привожу пример для 10000 выборок по 50 значений из исходной случайной величины "
   ]
  },
  {
   "cell_type": "code",
   "execution_count": 59,
   "metadata": {},
   "outputs": [
    {
     "data": {
      "image/png": "[encoded data removed]",
      "text/plain": [
       "<Figure size 720x504 with 1 Axes>"
      ]
     },
     "metadata": {
      "needs_background": "light"
     },
     "output_type": "display_data"
    }
   ],
   "source": [
    "mean_list = []\n",
    "for i in range(10000):\n",
    "    sampling = np.random.choice(random_value, 50)\n",
    "    mean_list.append(np.mean(sampling))\n",
    "    \n",
    "plt.figure(figsize = (10, 7))\n",
    "plt.hist(mean_list, bins=20, label='means distribution (10000 samples)')\n",
    "plt.grid()\n",
    "plt.legend()\n",
    "plt.show()"
   ]
  },
  {
   "cell_type": "code",
   "execution_count": null,
   "metadata": {},
   "outputs": [],
   "source": []
  },
  {
   "cell_type": "markdown",
   "metadata": {
    "id": "KJWpqOvPjt1E"
   },
   "source": [
    "## Задание 5"
   ]
  },
  {
   "cell_type": "markdown",
   "metadata": {
    "id": "48ezmZDMjvIY"
   },
   "source": [
    "Найдите собственные значения и собственные вектора матрицы (на python и на бумаге):"
   ]
  },
  {
   "cell_type": "markdown",
   "metadata": {
    "id": "509GRSXskfQt"
   },
   "source": [
    "\n",
    "\n",
    "```\n",
    "m = np.array([[1, 4],\n",
    "              [1, 1]])\n",
    "print(m)\n",
    "```\n",
    "\n"
   ]
  },
  {
   "cell_type": "code",
   "execution_count": 60,
   "metadata": {},
   "outputs": [
    {
     "name": "stdout",
     "output_type": "stream",
     "text": [
      "[[1 4]\n",
      " [1 1]]\n"
     ]
    }
   ],
   "source": [
    "m = np.array([[1, 4],\n",
    "              [1, 1]])\n",
    "print(m)"
   ]
  },
  {
   "cell_type": "code",
   "execution_count": 64,
   "metadata": {},
   "outputs": [
    {
     "name": "stdout",
     "output_type": "stream",
     "text": [
      "Собственное значение 3.0\n",
      "соответствующий ему собственный вектор [0.89442719 0.4472136 ]\n",
      "Собственное значение -1.0\n",
      "соответствующий ему собственный вектор [-0.89442719  0.4472136 ]\n"
     ]
    }
   ],
   "source": [
    "w, v = np.linalg.eig(m)\n",
    "for i in range(len(w)):\n",
    "    print(\"Собственное значение \" + str(round(w[i], 4)))\n",
    "    print(\"соответствующий ему собственный вектор \" + str(v[:,i]))"
   ]
  },
  {
   "cell_type": "markdown",
   "metadata": {},
   "source": [
    "Решение вручную:"
   ]
  },
  {
   "cell_type": "markdown",
   "metadata": {},
   "source": [
    "<img src=\"task5.jpg\">"
   ]
  },
  {
   "cell_type": "markdown",
   "metadata": {},
   "source": [
    "Результат получен аналогичный"
   ]
  },
  {
   "cell_type": "code",
   "execution_count": null,
   "metadata": {},
   "outputs": [],
   "source": []
  }
 ],
 "metadata": {
  "colab": {
   "name": "HW_X",
   "provenance": []
  },
  "kernelspec": {
   "display_name": "Python 3",
   "language": "python",
   "name": "python3"
  },
  "language_info": {
   "codemirror_mode": {
    "name": "ipython",
    "version": 3
   },
   "file_extension": ".py",
   "mimetype": "text/x-python",
   "name": "python",
   "nbconvert_exporter": "python",
   "pygments_lexer": "ipython3",
   "version": "3.7.7"
  }
 },
 "nbformat": 4,
 "nbformat_minor": 1
}
