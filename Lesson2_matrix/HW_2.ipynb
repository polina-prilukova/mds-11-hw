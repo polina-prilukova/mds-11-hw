{
 "cells": [
  {
   "cell_type": "markdown",
   "metadata": {
    "id": "SVe9_TI3OEzz"
   },
   "source": [
    "# Домашнее задание \"Линейная алгебра. Матрицы\"."
   ]
  },
  {
   "cell_type": "markdown",
   "metadata": {
    "id": "5y1_BdobOJhL"
   },
   "source": [
    "### Уровень 0:"
   ]
  },
  {
   "cell_type": "markdown",
   "metadata": {
    "id": "T6OsnFW8Nds0"
   },
   "source": [
    " - Создайте матрицу 3 на 3, заполненную числами от 1 до 9\n",
    " - Прибавьте к ней матрицу с единицами на диагонале\n",
    " - Умножьте полученную матрицу на вектор (1, 2, 3)\n",
    " - Посчитайте обратную матрицу к полученной матрице"
   ]
  },
  {
   "cell_type": "code",
   "execution_count": 11,
   "metadata": {},
   "outputs": [],
   "source": [
    "import numpy as np\n",
    "import matplotlib.pyplot as plt"
   ]
  },
  {
   "cell_type": "code",
   "execution_count": 5,
   "metadata": {},
   "outputs": [
    {
     "data": {
      "text/plain": [
       "array([[1, 2, 3],\n",
       "       [4, 5, 6],\n",
       "       [7, 8, 9]])"
      ]
     },
     "execution_count": 5,
     "metadata": {},
     "output_type": "execute_result"
    }
   ],
   "source": [
    "# Создайте матрицу 3 на 3, заполненную числами от 1 до 9\n",
    "A = np.arange(1, 10).reshape(3, 3)\n",
    "A"
   ]
  },
  {
   "cell_type": "code",
   "execution_count": 6,
   "metadata": {},
   "outputs": [
    {
     "data": {
      "text/plain": [
       "array([[ 2.,  2.,  3.],\n",
       "       [ 4.,  6.,  6.],\n",
       "       [ 7.,  8., 10.]])"
      ]
     },
     "execution_count": 6,
     "metadata": {},
     "output_type": "execute_result"
    }
   ],
   "source": [
    "# Прибавьте к ней матрицу с единицами на диагонали\n",
    "B = A + np.eye(3)\n",
    "B"
   ]
  },
  {
   "cell_type": "code",
   "execution_count": 7,
   "metadata": {},
   "outputs": [
    {
     "data": {
      "text/plain": [
       "array([31., 38., 45.])"
      ]
     },
     "execution_count": 7,
     "metadata": {},
     "output_type": "execute_result"
    }
   ],
   "source": [
    "# Умножьте полученную матрицу на вектор (1, 2, 3)\n",
    "C = np.dot(np.array([1, 2, 3]), B)\n",
    "C"
   ]
  },
  {
   "cell_type": "code",
   "execution_count": 10,
   "metadata": {},
   "outputs": [
    {
     "data": {
      "text/plain": [
       "array([[15.],\n",
       "       [34.],\n",
       "       [53.]])"
      ]
     },
     "execution_count": 10,
     "metadata": {},
     "output_type": "execute_result"
    }
   ],
   "source": [
    "# если интерпретируем вектор как вектор-столбец, получим другое произведение\n",
    "C2 = np.dot(B, np.array([1, 2, 3]).reshape(3,1))\n",
    "C2"
   ]
  },
  {
   "cell_type": "code",
   "execution_count": 8,
   "metadata": {},
   "outputs": [
    {
     "data": {
      "text/plain": [
       "array([[-6. , -2. ,  3. ],\n",
       "       [-1. ,  0.5,  0. ],\n",
       "       [ 5. ,  1. , -2. ]])"
      ]
     },
     "execution_count": 8,
     "metadata": {},
     "output_type": "execute_result"
    }
   ],
   "source": [
    "# Посчитайте обратную матрицу к полученной матрице\n",
    "B_inv = np.linalg.inv(B)\n",
    "B_inv"
   ]
  },
  {
   "cell_type": "markdown",
   "metadata": {
    "id": "_BAj6HboOLrk"
   },
   "source": [
    "### Уровень 1:"
   ]
  },
  {
   "cell_type": "markdown",
   "metadata": {
    "id": "RiADgeYcOPQF"
   },
   "source": [
    "Дан объект в 2d пространстве:\n",
    "\n",
    "\n",
    "\n",
    "```\n",
    "import numpy as np\n",
    "import matplotlib.pyplot as plt\n",
    "\n",
    "A = [\n",
    "[-100, -100, 1],\n",
    "[-100, 100, 1],\n",
    "[100, 100, 1],\n",
    "[0, 0, 1],\n",
    "[100, -100, 1],\n",
    "[-100, -100, 1]\n",
    "]\n",
    "\n",
    "A = np.array(A)\n",
    "x = A[:,0]\n",
    "y = A[:,1]\n",
    "\n",
    "plt.plot(x, y)\n",
    "plt.ylim([-200, 200])\n",
    "plt.xlim([-200, 200])\n",
    "```\n",
    "\n",
    "\n",
    "При помощи матричных операций выполните:\n",
    "- Уменьшить объект в два раза\n",
    "- Повернуть на 130 градусов\n",
    "- Отразить объект относительно прямой y=x\n",
    "- Выполнить смещение объекта и масштабирование (применить 2 матрицы трансформаций). Смещение на (200, 300) и масштабирование на (0.5, 1.2)\n",
    "\n"
   ]
  },
  {
   "cell_type": "code",
   "execution_count": 83,
   "metadata": {
    "scrolled": true
   },
   "outputs": [
    {
     "data": {
      "text/plain": [
       "(-200.0, 200.0)"
      ]
     },
     "execution_count": 83,
     "metadata": {},
     "output_type": "execute_result"
    },
    {
     "data": {
      "image/png": "[encoded data removed]",
      "text/plain": [
       "<Figure size 432x288 with 1 Axes>"
      ]
     },
     "metadata": {
      "needs_background": "light"
     },
     "output_type": "display_data"
    }
   ],
   "source": [
    "A = [\n",
    "[-100, -100, 1],\n",
    "[-100, 100, 1],\n",
    "[100, 100, 1],\n",
    "[0, 0, 1],\n",
    "[100, -100, 1],\n",
    "[-100, -100, 1]\n",
    "]\n",
    "\n",
    "A = np.array(A)\n",
    "x = A[:,0]\n",
    "y = A[:,1]\n",
    "\n",
    "plt.plot(x, y)\n",
    "plt.grid()\n",
    "plt.ylim([-200, 200])\n",
    "plt.xlim([-200, 200])\n"
   ]
  },
  {
   "cell_type": "code",
   "execution_count": 82,
   "metadata": {},
   "outputs": [
    {
     "name": "stdout",
     "output_type": "stream",
     "text": [
      "[[0.5 0.  0. ]\n",
      " [0.  0.5 0. ]\n",
      " [0.  0.  1. ]]\n"
     ]
    },
    {
     "data": {
      "text/plain": [
       "(-200.0, 200.0)"
      ]
     },
     "execution_count": 82,
     "metadata": {},
     "output_type": "execute_result"
    },
    {
     "data": {
      "image/png": "[encoded data removed]",
      "text/plain": [
       "<Figure size 432x288 with 1 Axes>"
      ]
     },
     "metadata": {
      "needs_background": "light"
     },
     "output_type": "display_data"
    }
   ],
   "source": [
    "# Уменьшить объект в два раза\n",
    "\n",
    "M_transform = np.array([[0.5, 0, 0], [0, 0.5, 0], [0, 0, 1]])\n",
    "print(M_transform)\n",
    "\n",
    "new_coord = A @ M_transform\n",
    "plt.plot(new_coord[:,0], new_coord[:,1], color='r')\n",
    "plt.grid()\n",
    "plt.xlim([-200, 200])\n",
    "plt.ylim([-200, 200])\n",
    "\n"
   ]
  },
  {
   "cell_type": "code",
   "execution_count": 90,
   "metadata": {},
   "outputs": [
    {
     "name": "stdout",
     "output_type": "stream",
     "text": [
      "[[-0.64278761 -0.76604444  0.        ]\n",
      " [ 0.76604444 -0.64278761  0.        ]\n",
      " [ 0.          0.          1.        ]]\n"
     ]
    },
    {
     "data": {
      "text/plain": [
       "(-200.0, 200.0)"
      ]
     },
     "execution_count": 90,
     "metadata": {},
     "output_type": "execute_result"
    },
    {
     "data": {
      "image/png": "[encoded data removed]",
      "text/plain": [
       "<Figure size 432x288 with 1 Axes>"
      ]
     },
     "metadata": {
      "needs_background": "light"
     },
     "output_type": "display_data"
    }
   ],
   "source": [
    "# Повернуть на 130 градусов (по часовой стрелке)\n",
    "\n",
    "cos_rotate = np.cos(np.deg2rad(130))\n",
    "sin_rotate = np.sin(np.deg2rad(130))\n",
    "\n",
    "M_transform = np.array([[cos_rotate, -sin_rotate, 0], [sin_rotate, cos_rotate, 0], [0, 0, 1]])\n",
    "print(M_transform)\n",
    "\n",
    "new_coord =  A @ M_transform\n",
    "plt.plot(new_coord[:,0], new_coord[:,1], color='r')\n",
    "plt.grid()\n",
    "\n",
    "plt.plot(x, y)\n",
    "plt.xlim([-200, 200])\n",
    "plt.ylim([-200, 200])\n"
   ]
  },
  {
   "cell_type": "code",
   "execution_count": 88,
   "metadata": {},
   "outputs": [
    {
     "name": "stdout",
     "output_type": "stream",
     "text": [
      "[[-0.64278761  0.76604444  0.        ]\n",
      " [-0.76604444 -0.64278761  0.        ]\n",
      " [ 0.          0.          1.        ]]\n"
     ]
    },
    {
     "data": {
      "text/plain": [
       "(-200.0, 200.0)"
      ]
     },
     "execution_count": 88,
     "metadata": {},
     "output_type": "execute_result"
    },
    {
     "data": {
      "image/png": "[encoded data removed]",
      "text/plain": [
       "<Figure size 432x288 with 1 Axes>"
      ]
     },
     "metadata": {
      "needs_background": "light"
     },
     "output_type": "display_data"
    }
   ],
   "source": [
    "# Повернуть на 130 градусов (против часовой стрелки)\n",
    "\n",
    "M_transform = np.array([[cos_rotate, sin_rotate, 0], [-sin_rotate, cos_rotate, 0], [0, 0, 1]])\n",
    "print(M_transform)\n",
    "\n",
    "new_coord =  A @ M_transform\n",
    "plt.plot(new_coord[:,0], new_coord[:,1], color='r')\n",
    "plt.grid()\n",
    "\n",
    "plt.plot(x, y)\n",
    "plt.xlim([-200, 200])\n",
    "plt.ylim([-200, 200])"
   ]
  },
  {
   "cell_type": "code",
   "execution_count": 85,
   "metadata": {},
   "outputs": [
    {
     "name": "stdout",
     "output_type": "stream",
     "text": [
      "[[0 1 0]\n",
      " [1 0 0]\n",
      " [0 0 1]]\n"
     ]
    },
    {
     "data": {
      "text/plain": [
       "(-200.0, 200.0)"
      ]
     },
     "execution_count": 85,
     "metadata": {},
     "output_type": "execute_result"
    },
    {
     "data": {
      "image/png": "[encoded data removed]",
      "text/plain": [
       "<Figure size 432x288 with 1 Axes>"
      ]
     },
     "metadata": {
      "needs_background": "light"
     },
     "output_type": "display_data"
    }
   ],
   "source": [
    "# Отразить объект относительно прямой y=x\n",
    "\n",
    "M_transform = np.array([[0, 1, 0], [1, 0, 0], [0, 0, 1]])\n",
    "print(M_transform)\n",
    "\n",
    "new_coord =  A @ M_transform\n",
    "plt.plot(new_coord[:,0], new_coord[:,1], color='r')\n",
    "plt.grid()\n",
    "\n",
    "plt.xlim([-200, 200])\n",
    "plt.ylim([-200, 200])\n",
    "\n"
   ]
  },
  {
   "cell_type": "code",
   "execution_count": 87,
   "metadata": {},
   "outputs": [
    {
     "name": "stdout",
     "output_type": "stream",
     "text": [
      "[[  1   0   0]\n",
      " [  0   1   0]\n",
      " [200 300   1]]\n",
      "[[0.5 0.  0. ]\n",
      " [0.  1.2 0. ]\n",
      " [0.  0.  1. ]]\n"
     ]
    },
    {
     "data": {
      "text/plain": [
       "(100.0, 550.0)"
      ]
     },
     "execution_count": 87,
     "metadata": {},
     "output_type": "execute_result"
    },
    {
     "data": {
      "image/png": "[encoded data removed]",
      "text/plain": [
       "<Figure size 432x288 with 1 Axes>"
      ]
     },
     "metadata": {
      "needs_background": "light"
     },
     "output_type": "display_data"
    }
   ],
   "source": [
    "# Выполнить смещение объекта и масштабирование (применить 2 матрицы трансформаций). \n",
    "# Смещение на (200, 300) и масштабирование на (0.5, 1.2)\n",
    "\n",
    "M_transform_1 = np.array([[1, 0, 0], [0, 1, 0], [200, 300, 1]])\n",
    "M_transform_2 = np.array([[0.5, 0, 0], [0, 1.2, 0], [0, 0, 1]]) \n",
    "print(M_transform_1)\n",
    "print(M_transform_2)\n",
    "\n",
    "new_coord =  (A @ M_transform_1) @ M_transform_2\n",
    "plt.plot(new_coord[:,0], new_coord[:,1], color='r')\n",
    "plt.grid()\n",
    "\n",
    "plt.xlim([0, 300])\n",
    "plt.ylim([100, 550])\n"
   ]
  },
  {
   "cell_type": "code",
   "execution_count": null,
   "metadata": {},
   "outputs": [],
   "source": []
  }
 ],
 "metadata": {
  "colab": {
   "collapsed_sections": [],
   "name": "HW_2",
   "provenance": []
  },
  "kernelspec": {
   "display_name": "Python 3",
   "language": "python",
   "name": "python3"
  },
  "language_info": {
   "codemirror_mode": {
    "name": "ipython",
    "version": 3
   },
   "file_extension": ".py",
   "mimetype": "text/x-python",
   "name": "python",
   "nbconvert_exporter": "python",
   "pygments_lexer": "ipython3",
   "version": "3.7.7"
  }
 },
 "nbformat": 4,
 "nbformat_minor": 1
}
