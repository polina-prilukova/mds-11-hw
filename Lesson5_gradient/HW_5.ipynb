{
 "cells": [
  {
   "cell_type": "markdown",
   "metadata": {
    "id": "MDcEqde2UtVJ"
   },
   "source": [
    "# Домашнее задание \"Производная функции нескольких аргументов\"."
   ]
  },
  {
   "cell_type": "code",
   "execution_count": 1,
   "metadata": {
    "id": "hkGWP9e5TgmG"
   },
   "outputs": [],
   "source": [
    "import numpy as np\n",
    "from scipy.optimize import approx_fprime\n",
    "from scipy.optimize import minimize"
   ]
  },
  {
   "cell_type": "markdown",
   "metadata": {
    "id": "Brjig4o4UnHe"
   },
   "source": [
    "### Уровень 0:"
   ]
  },
  {
   "cell_type": "markdown",
   "metadata": {
    "id": "xOv4al86VAw1"
   },
   "source": [
    "Посчитайте частные производные функций:"
   ]
  },
  {
   "cell_type": "markdown",
   "metadata": {
    "id": "fCyKnRYIUw2j"
   },
   "source": [
    "\n",
    "1) $f(x,y)=2x^2y^3 + 1/x + y^2x + 7$, а для этой функции также градиент в точке $(1,2)$\n",
    "\n",
    "2) $f(x,y)=x^2y - sin(xy) + cos(x^2) + 6y$"
   ]
  },
  {
   "cell_type": "markdown",
   "metadata": {},
   "source": [
    "Рассчитаем частные производные.  \n",
    "1)\n",
    "$f'x(x, y) = 4xy^3 - 1/x^2 +y^2$    \n",
    "$f'y(x, y) = 6x^2y^2 + 2yx$  \n",
    "\n",
    "\n",
    "в точке (1, 2) значение градиента составит grad f = (35 28)\n",
    "\n",
    "2)  \n",
    "$f'x(x, y) = 2xy - y*cos(xy)-2x*sin(x^2)$  \n",
    "$f'y(x, y) = x^2 - x*cos(xy) + 6$\n"
   ]
  },
  {
   "cell_type": "code",
   "execution_count": 13,
   "metadata": {},
   "outputs": [],
   "source": [
    "from sympy import * "
   ]
  },
  {
   "cell_type": "code",
   "execution_count": 17,
   "metadata": {},
   "outputs": [
    {
     "name": "stdout",
     "output_type": "stream",
     "text": [
      "f(x, y) = 2*x**2*y**3 + x*y**2 + 7 + 1/x\n",
      "Производная по х: 4*x*y**3 + y**2 - 1/x**2\n",
      "Производная по y: 6*x**2*y**2 + 2*x*y\n"
     ]
    }
   ],
   "source": [
    "# убедимся, что частные производные посчитаны верно\n",
    "# для функции из пункта 1)\n",
    "\n",
    "x, y = sympy.symbols('x y')\n",
    "expression = 2*x**2*y**3 + x**(-1) + y**2*x + 7\n",
    "d1 = diff(expression, x)\n",
    "d2 = diff(expression, y)\n",
    "\n",
    "print(f'f(x, y) = {expression}')\n",
    "print(f\"Производная по х: {d1}\")\n",
    "print(f\"Производная по y: {d2}\")"
   ]
  },
  {
   "cell_type": "markdown",
   "metadata": {},
   "source": [
    "Результат совпадает с расчетным"
   ]
  },
  {
   "cell_type": "code",
   "execution_count": 25,
   "metadata": {},
   "outputs": [
    {
     "data": {
      "text/plain": [
       "array([35., 28.])"
      ]
     },
     "execution_count": 25,
     "metadata": {},
     "output_type": "execute_result"
    }
   ],
   "source": [
    "# найдем градиент функции в точке (1, 2)\n",
    "\n",
    "def func(x):\n",
    "    return 2*x[0]**2*x[1]**3 + x[0]**(-1) + x[1]**2*x[0] + 7\n",
    "\n",
    "arr = np.array([1, 2])\n",
    "eps = 1e-9\n",
    "approx_fprime(arr, func, eps)"
   ]
  },
  {
   "cell_type": "markdown",
   "metadata": {},
   "source": [
    "Результат так же совпадает с расчетным. Замечу, что функция approx_fprime возвращает численное приближение, и при изменении параметра eps, который задает приращение, результат аппроксимации может получится другим (но неизменно близким к этой паре значений (35, 28))."
   ]
  },
  {
   "cell_type": "code",
   "execution_count": 30,
   "metadata": {},
   "outputs": [
    {
     "data": {
      "text/plain": [
       "array([35.00000024, 28.00000024])"
      ]
     },
     "execution_count": 30,
     "metadata": {},
     "output_type": "execute_result"
    }
   ],
   "source": [
    "# например, таким:\n",
    "eps = np.sqrt(np.finfo(float).eps)\n",
    "approx_fprime(arr, func, eps)"
   ]
  },
  {
   "cell_type": "code",
   "execution_count": 27,
   "metadata": {
    "scrolled": true
   },
   "outputs": [
    {
     "name": "stdout",
     "output_type": "stream",
     "text": [
      "f(x, y) = x**2*y + 6*y - sin(x*y) + cos(x**2)\n",
      "Производная по х: 2*x*y - 2*x*sin(x**2) - y*cos(x*y)\n",
      "Производная по y: x**2 - x*cos(x*y) + 6\n"
     ]
    }
   ],
   "source": [
    "# частные производные для функции из пункта 2)\n",
    "\n",
    "x, y = sympy.symbols('x y')\n",
    "expression = x**2*y - sin(x*y) + cos(x**2) + 6*y\n",
    "d1 = diff(expression, x)\n",
    "d2 = diff(expression, y)\n",
    "\n",
    "print(f'f(x, y) = {expression}')\n",
    "print(f\"Производная по х: {d1}\")\n",
    "print(f\"Производная по y: {d2}\")"
   ]
  },
  {
   "cell_type": "markdown",
   "metadata": {
    "id": "COzir0ZGVLtz"
   },
   "source": [
    "### Уровень 1:"
   ]
  },
  {
   "cell_type": "markdown",
   "metadata": {
    "id": "VIW3H6ChVOZQ"
   },
   "source": [
    "Градиентный спуск своими руками:"
   ]
  },
  {
   "cell_type": "code",
   "execution_count": 28,
   "metadata": {
    "id": "rFpy298AUwXs"
   },
   "outputs": [],
   "source": [
    "def f(x):\n",
    "    return (x[0]**2) + (x[1]**2)"
   ]
  },
  {
   "cell_type": "markdown",
   "metadata": {},
   "source": [
    "Здесь мы видим достаточно простую функцию. Её область значения - неотрицательные числа. Минимум функции будет достигаться в точке (0, 0) и будет равен 0.  \n",
    "Проверим, так ли это:"
   ]
  },
  {
   "cell_type": "code",
   "execution_count": 29,
   "metadata": {
    "id": "-QoutSlMcZ7M"
   },
   "outputs": [],
   "source": [
    "x = np.array([100, 200])\n",
    "learning_rate = 0.1"
   ]
  },
  {
   "cell_type": "code",
   "execution_count": 39,
   "metadata": {
    "id": "kBQCpgyEcZ9j"
   },
   "outputs": [],
   "source": [
    "eps = np.sqrt(np.finfo(float).eps)\n",
    "for i in range(100):\n",
    "    # Calculate gradient\n",
    "    grad = approx_fprime(x, f, [eps, eps])\n",
    "    \n",
    "    # Update x with gradient\n",
    "    x = x - learning_rate*grad\n",
    "\n",
    "#     print(f'{i}: grad = {grad}, x[i] = {x}')"
   ]
  },
  {
   "cell_type": "code",
   "execution_count": 40,
   "metadata": {
    "id": "3rJwR2lecZ_i"
   },
   "outputs": [
    {
     "name": "stdout",
     "output_type": "stream",
     "text": [
      "Минимум достигается в:  [-7.4505806e-09 -7.4505806e-09]\n",
      "Значение функции в минимуме:  1.110223024625156e-16\n"
     ]
    }
   ],
   "source": [
    "print(\"Минимум достигается в: \", x) \n",
    "print(\"Значение функции в минимуме: \", f(x))"
   ]
  },
  {
   "cell_type": "markdown",
   "metadata": {},
   "source": [
    "Мы не попали ровно в точку (0, 0), но видно, что и результирующие координаты и значение функции в минимуме очень близки к нулю "
   ]
  },
  {
   "cell_type": "code",
   "execution_count": 50,
   "metadata": {},
   "outputs": [
    {
     "name": "stdout",
     "output_type": "stream",
     "text": [
      "Минимум достигается в:  (-0.0, -0.0)\n",
      "Значение функции в минимуме:  0.0\n"
     ]
    }
   ],
   "source": [
    "# При округлении, например, до 6-го знака после запятой получим как раз то, что ожидали увидеть\n",
    "print(\"Минимум достигается в: \", tuple(map(lambda coord: round(coord, 6), x))) \n",
    "print(\"Значение функции в минимуме: \", round(f(x), 6))"
   ]
  },
  {
   "cell_type": "markdown",
   "metadata": {
    "id": "eAw4uXx_UnJk"
   },
   "source": [
    "\n",
    "Проверка с помощью встроенной функции numpy:"
   ]
  },
  {
   "cell_type": "code",
   "execution_count": 52,
   "metadata": {},
   "outputs": [
    {
     "name": "stdout",
     "output_type": "stream",
     "text": [
      "Optimization terminated successfully.\n",
      "         Current function value: 0.000000\n",
      "         Iterations: 72\n",
      "         Function evaluations: 138\n"
     ]
    }
   ],
   "source": [
    "# Проверка с помощью minimize\n",
    "res = minimize(f, [100, 200], method = 'nelder-mead', options = {'xtol':1e-6, 'disp':True })"
   ]
  },
  {
   "cell_type": "markdown",
   "metadata": {},
   "source": [
    "Получили подтверждение, что минимум функции равен 0"
   ]
  }
 ],
 "metadata": {
  "colab": {
   "name": "HW_5",
   "provenance": []
  },
  "kernelspec": {
   "display_name": "Python 3",
   "language": "python",
   "name": "python3"
  },
  "language_info": {
   "codemirror_mode": {
    "name": "ipython",
    "version": 3
   },
   "file_extension": ".py",
   "mimetype": "text/x-python",
   "name": "python",
   "nbconvert_exporter": "python",
   "pygments_lexer": "ipython3",
   "version": "3.7.7"
  }
 },
 "nbformat": 4,
 "nbformat_minor": 1
}
